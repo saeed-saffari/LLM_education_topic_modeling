{
  "nbformat": 4,
  "nbformat_minor": 0,
  "metadata": {
    "colab": {
      "provenance": [],
      "authorship_tag": "ABX9TyNcF2y4AuQEm/fw1yT+c2Ln",
      "include_colab_link": true
    },
    "kernelspec": {
      "name": "python3",
      "display_name": "Python 3"
    },
    "language_info": {
      "name": "python"
    }
  },
  "cells": [
    {
      "cell_type": "markdown",
      "metadata": {
        "id": "view-in-github",
        "colab_type": "text"
      },
      "source": [
        "<a href=\"https://colab.research.google.com/github/saeed-saffari/LLM_education_topic_modeling/blob/main/topic_modeling_001.ipynb\" target=\"_parent\"><img src=\"https://colab.research.google.com/assets/colab-badge.svg\" alt=\"Open In Colab\"/></a>"
      ]
    },
    {
      "cell_type": "markdown",
      "source": [
        "# Topic Modeling"
      ],
      "metadata": {
        "id": "juB4a1bfChBe"
      }
    },
    {
      "cell_type": "markdown",
      "source": [
        "### import libraries"
      ],
      "metadata": {
        "id": "UvPrIfaSCkQe"
      }
    },
    {
      "cell_type": "code",
      "source": [
        "#pip install pyLDAvis"
      ],
      "metadata": {
        "colab": {
          "base_uri": "https://localhost:8080/"
        },
        "id": "bm6mbEA6Cs2H",
        "outputId": "915e2706-8d1a-4799-9e07-91cd554fb6e5"
      },
      "execution_count": 9,
      "outputs": [
        {
          "output_type": "stream",
          "name": "stderr",
          "text": [
            "/usr/local/lib/python3.10/dist-packages/ipykernel/ipkernel.py:283: DeprecationWarning: `should_run_async` will not call `transform_cell` automatically in the future. Please pass the result to `transformed_cell` argument and any exception that happen during thetransform in `preprocessing_exc_tuple` in IPython 7.17 and above.\n",
            "  and should_run_async(code)\n"
          ]
        }
      ]
    },
    {
      "cell_type": "code",
      "source": [
        "import pandas as pd\n",
        "import numpy as np\n",
        "import os\n",
        "import nltk\n",
        "from nltk.corpus import stopwords\n",
        "from gensim import corpora\n",
        "from gensim.models import LdaModel\n",
        "from sklearn.feature_extraction.text import TfidfVectorizer\n",
        "import pyLDAvis.gensim as gensimvis\n",
        "from nltk.tokenize import word_tokenize\n",
        "from nltk.stem import WordNetLemmatizer\n",
        "import pyLDAvis\n",
        "pyLDAvis.enable_notebook()\n"
      ],
      "metadata": {
        "colab": {
          "base_uri": "https://localhost:8080/"
        },
        "id": "qejdc-YqCnZm",
        "outputId": "dc780e45-b811-4584-8128-a0fb7ea0737a"
      },
      "execution_count": 27,
      "outputs": [
        {
          "output_type": "stream",
          "name": "stderr",
          "text": [
            "/usr/local/lib/python3.10/dist-packages/ipykernel/ipkernel.py:283: DeprecationWarning: `should_run_async` will not call `transform_cell` automatically in the future. Please pass the result to `transformed_cell` argument and any exception that happen during thetransform in `preprocessing_exc_tuple` in IPython 7.17 and above.\n",
            "  and should_run_async(code)\n"
          ]
        }
      ]
    },
    {
      "cell_type": "code",
      "source": [
        "nltk.download('stopwords')\n",
        "nltk.download('punkt')\n",
        "nltk.download('wordnet')\n",
        "nltk.download('omw-1.4')"
      ],
      "metadata": {
        "colab": {
          "base_uri": "https://localhost:8080/"
        },
        "id": "yzacHescD4PQ",
        "outputId": "84d43bf0-87b0-4d6e-82a9-ba7d5cb76a7a"
      },
      "execution_count": 15,
      "outputs": [
        {
          "output_type": "stream",
          "name": "stderr",
          "text": [
            "/usr/local/lib/python3.10/dist-packages/ipykernel/ipkernel.py:283: DeprecationWarning: `should_run_async` will not call `transform_cell` automatically in the future. Please pass the result to `transformed_cell` argument and any exception that happen during thetransform in `preprocessing_exc_tuple` in IPython 7.17 and above.\n",
            "  and should_run_async(code)\n",
            "[nltk_data] Downloading package stopwords to /root/nltk_data...\n",
            "[nltk_data]   Unzipping corpora/stopwords.zip.\n",
            "[nltk_data] Downloading package punkt to /root/nltk_data...\n",
            "[nltk_data]   Unzipping tokenizers/punkt.zip.\n",
            "[nltk_data] Downloading package wordnet to /root/nltk_data...\n",
            "[nltk_data] Downloading package omw-1.4 to /root/nltk_data...\n"
          ]
        },
        {
          "output_type": "execute_result",
          "data": {
            "text/plain": [
              "True"
            ]
          },
          "metadata": {},
          "execution_count": 15
        }
      ]
    },
    {
      "cell_type": "markdown",
      "source": [
        "### Loading data"
      ],
      "metadata": {
        "id": "8rhc6xrcEF0I"
      }
    },
    {
      "cell_type": "code",
      "source": [
        "df = pd.read_csv('https://github.com/saeed-saffari/LLM_education_topic_modeling/raw/refs/heads/main/Tastic%20AI%20-%20Opensource%20-%20AI%20tools.csv')\n",
        "print('Shape:', df.shape)\n",
        "print(df.columns)\n",
        "df.head()"
      ],
      "metadata": {
        "collapsed": true,
        "colab": {
          "base_uri": "https://localhost:8080/",
          "height": 298
        },
        "id": "lQECjl-0Cjd1",
        "outputId": "bfa98c9e-3506-4a6c-eb01-921b428a0842"
      },
      "execution_count": 14,
      "outputs": [
        {
          "output_type": "stream",
          "name": "stderr",
          "text": [
            "/usr/local/lib/python3.10/dist-packages/ipykernel/ipkernel.py:283: DeprecationWarning: `should_run_async` will not call `transform_cell` automatically in the future. Please pass the result to `transformed_cell` argument and any exception that happen during thetransform in `preprocessing_exc_tuple` in IPython 7.17 and above.\n",
            "  and should_run_async(code)\n"
          ]
        },
        {
          "output_type": "stream",
          "name": "stdout",
          "text": [
            "Shape: (4665, 7)\n",
            "Index(['title', 'minidesc', 'desc', 'cat', 'new_image', 'url-href', 'vote'], dtype='object')\n"
          ]
        },
        {
          "output_type": "execute_result",
          "data": {
            "text/plain": [
              "        title                                           minidesc  \\\n",
              "0     ChatGPT     ChatGPT optimizes language models for dialogue   \n",
              "1     Namelix  Generate short, brandable business names & dom...   \n",
              "2        Tome  Unlock your best work with AI-powered generati...   \n",
              "3       Fliki            Create videos from blog posts in 2 mins   \n",
              "4  Midjourney  AI lab exploring new mediums to expand human i...   \n",
              "\n",
              "                                                desc  \\\n",
              "0  ChatGPT FeaturesChatGPT is an AI-powered conve...   \n",
              "1  Namelix FeaturesNamelix is an AI-powered busin...   \n",
              "2  Tome FeaturesThe future of generative storytel...   \n",
              "3  Fliki FeaturesFliki is an AI-powered text-to-v...   \n",
              "4  Midjourney FeaturesMidjourney is an independen...   \n",
              "\n",
              "                        cat  \\\n",
              "0     AI Productivity tools   \n",
              "1          AI startup tools   \n",
              "2     AI presentation tools   \n",
              "3  AI video Generator tools   \n",
              "4          AI tools for art   \n",
              "\n",
              "                                           new_image  \\\n",
              "0  https://tasticai.com/wp-content/uploads/aitool...   \n",
              "1  https://tasticai.com/wp-content/uploads/aitool...   \n",
              "2  https://tasticai.com/wp-content/uploads/aitool...   \n",
              "3  https://tasticai.com/wp-content/uploads/aitool...   \n",
              "4  https://tasticai.com/wp-content/uploads/aitool...   \n",
              "\n",
              "                          url-href    vote  \n",
              "0     https://chat.openai.com/chat  4813.0  \n",
              "1              https://namelix.com  4012.0  \n",
              "2                 https://tome.app  3593.0  \n",
              "3                 https://fliki.ai  3580.0  \n",
              "4  https://www.midjourney.com/home  3000.0  "
            ],
            "text/html": [
              "\n",
              "  <div id=\"df-d86396ce-28f9-473d-bffb-3770dbbde590\" class=\"colab-df-container\">\n",
              "    <div>\n",
              "<style scoped>\n",
              "    .dataframe tbody tr th:only-of-type {\n",
              "        vertical-align: middle;\n",
              "    }\n",
              "\n",
              "    .dataframe tbody tr th {\n",
              "        vertical-align: top;\n",
              "    }\n",
              "\n",
              "    .dataframe thead th {\n",
              "        text-align: right;\n",
              "    }\n",
              "</style>\n",
              "<table border=\"1\" class=\"dataframe\">\n",
              "  <thead>\n",
              "    <tr style=\"text-align: right;\">\n",
              "      <th></th>\n",
              "      <th>title</th>\n",
              "      <th>minidesc</th>\n",
              "      <th>desc</th>\n",
              "      <th>cat</th>\n",
              "      <th>new_image</th>\n",
              "      <th>url-href</th>\n",
              "      <th>vote</th>\n",
              "    </tr>\n",
              "  </thead>\n",
              "  <tbody>\n",
              "    <tr>\n",
              "      <th>0</th>\n",
              "      <td>ChatGPT</td>\n",
              "      <td>ChatGPT optimizes language models for dialogue</td>\n",
              "      <td>ChatGPT FeaturesChatGPT is an AI-powered conve...</td>\n",
              "      <td>AI Productivity tools</td>\n",
              "      <td>https://tasticai.com/wp-content/uploads/aitool...</td>\n",
              "      <td>https://chat.openai.com/chat</td>\n",
              "      <td>4813.0</td>\n",
              "    </tr>\n",
              "    <tr>\n",
              "      <th>1</th>\n",
              "      <td>Namelix</td>\n",
              "      <td>Generate short, brandable business names &amp; dom...</td>\n",
              "      <td>Namelix FeaturesNamelix is an AI-powered busin...</td>\n",
              "      <td>AI startup tools</td>\n",
              "      <td>https://tasticai.com/wp-content/uploads/aitool...</td>\n",
              "      <td>https://namelix.com</td>\n",
              "      <td>4012.0</td>\n",
              "    </tr>\n",
              "    <tr>\n",
              "      <th>2</th>\n",
              "      <td>Tome</td>\n",
              "      <td>Unlock your best work with AI-powered generati...</td>\n",
              "      <td>Tome FeaturesThe future of generative storytel...</td>\n",
              "      <td>AI presentation tools</td>\n",
              "      <td>https://tasticai.com/wp-content/uploads/aitool...</td>\n",
              "      <td>https://tome.app</td>\n",
              "      <td>3593.0</td>\n",
              "    </tr>\n",
              "    <tr>\n",
              "      <th>3</th>\n",
              "      <td>Fliki</td>\n",
              "      <td>Create videos from blog posts in 2 mins</td>\n",
              "      <td>Fliki FeaturesFliki is an AI-powered text-to-v...</td>\n",
              "      <td>AI video Generator tools</td>\n",
              "      <td>https://tasticai.com/wp-content/uploads/aitool...</td>\n",
              "      <td>https://fliki.ai</td>\n",
              "      <td>3580.0</td>\n",
              "    </tr>\n",
              "    <tr>\n",
              "      <th>4</th>\n",
              "      <td>Midjourney</td>\n",
              "      <td>AI lab exploring new mediums to expand human i...</td>\n",
              "      <td>Midjourney FeaturesMidjourney is an independen...</td>\n",
              "      <td>AI tools for art</td>\n",
              "      <td>https://tasticai.com/wp-content/uploads/aitool...</td>\n",
              "      <td>https://www.midjourney.com/home</td>\n",
              "      <td>3000.0</td>\n",
              "    </tr>\n",
              "  </tbody>\n",
              "</table>\n",
              "</div>\n",
              "    <div class=\"colab-df-buttons\">\n",
              "\n",
              "  <div class=\"colab-df-container\">\n",
              "    <button class=\"colab-df-convert\" onclick=\"convertToInteractive('df-d86396ce-28f9-473d-bffb-3770dbbde590')\"\n",
              "            title=\"Convert this dataframe to an interactive table.\"\n",
              "            style=\"display:none;\">\n",
              "\n",
              "  <svg xmlns=\"http://www.w3.org/2000/svg\" height=\"24px\" viewBox=\"0 -960 960 960\">\n",
              "    <path d=\"M120-120v-720h720v720H120Zm60-500h600v-160H180v160Zm220 220h160v-160H400v160Zm0 220h160v-160H400v160ZM180-400h160v-160H180v160Zm440 0h160v-160H620v160ZM180-180h160v-160H180v160Zm440 0h160v-160H620v160Z\"/>\n",
              "  </svg>\n",
              "    </button>\n",
              "\n",
              "  <style>\n",
              "    .colab-df-container {\n",
              "      display:flex;\n",
              "      gap: 12px;\n",
              "    }\n",
              "\n",
              "    .colab-df-convert {\n",
              "      background-color: #E8F0FE;\n",
              "      border: none;\n",
              "      border-radius: 50%;\n",
              "      cursor: pointer;\n",
              "      display: none;\n",
              "      fill: #1967D2;\n",
              "      height: 32px;\n",
              "      padding: 0 0 0 0;\n",
              "      width: 32px;\n",
              "    }\n",
              "\n",
              "    .colab-df-convert:hover {\n",
              "      background-color: #E2EBFA;\n",
              "      box-shadow: 0px 1px 2px rgba(60, 64, 67, 0.3), 0px 1px 3px 1px rgba(60, 64, 67, 0.15);\n",
              "      fill: #174EA6;\n",
              "    }\n",
              "\n",
              "    .colab-df-buttons div {\n",
              "      margin-bottom: 4px;\n",
              "    }\n",
              "\n",
              "    [theme=dark] .colab-df-convert {\n",
              "      background-color: #3B4455;\n",
              "      fill: #D2E3FC;\n",
              "    }\n",
              "\n",
              "    [theme=dark] .colab-df-convert:hover {\n",
              "      background-color: #434B5C;\n",
              "      box-shadow: 0px 1px 3px 1px rgba(0, 0, 0, 0.15);\n",
              "      filter: drop-shadow(0px 1px 2px rgba(0, 0, 0, 0.3));\n",
              "      fill: #FFFFFF;\n",
              "    }\n",
              "  </style>\n",
              "\n",
              "    <script>\n",
              "      const buttonEl =\n",
              "        document.querySelector('#df-d86396ce-28f9-473d-bffb-3770dbbde590 button.colab-df-convert');\n",
              "      buttonEl.style.display =\n",
              "        google.colab.kernel.accessAllowed ? 'block' : 'none';\n",
              "\n",
              "      async function convertToInteractive(key) {\n",
              "        const element = document.querySelector('#df-d86396ce-28f9-473d-bffb-3770dbbde590');\n",
              "        const dataTable =\n",
              "          await google.colab.kernel.invokeFunction('convertToInteractive',\n",
              "                                                    [key], {});\n",
              "        if (!dataTable) return;\n",
              "\n",
              "        const docLinkHtml = 'Like what you see? Visit the ' +\n",
              "          '<a target=\"_blank\" href=https://colab.research.google.com/notebooks/data_table.ipynb>data table notebook</a>'\n",
              "          + ' to learn more about interactive tables.';\n",
              "        element.innerHTML = '';\n",
              "        dataTable['output_type'] = 'display_data';\n",
              "        await google.colab.output.renderOutput(dataTable, element);\n",
              "        const docLink = document.createElement('div');\n",
              "        docLink.innerHTML = docLinkHtml;\n",
              "        element.appendChild(docLink);\n",
              "      }\n",
              "    </script>\n",
              "  </div>\n",
              "\n",
              "\n",
              "<div id=\"df-144e5bb9-29b6-407e-832f-5b3b5fe0546c\">\n",
              "  <button class=\"colab-df-quickchart\" onclick=\"quickchart('df-144e5bb9-29b6-407e-832f-5b3b5fe0546c')\"\n",
              "            title=\"Suggest charts\"\n",
              "            style=\"display:none;\">\n",
              "\n",
              "<svg xmlns=\"http://www.w3.org/2000/svg\" height=\"24px\"viewBox=\"0 0 24 24\"\n",
              "     width=\"24px\">\n",
              "    <g>\n",
              "        <path d=\"M19 3H5c-1.1 0-2 .9-2 2v14c0 1.1.9 2 2 2h14c1.1 0 2-.9 2-2V5c0-1.1-.9-2-2-2zM9 17H7v-7h2v7zm4 0h-2V7h2v10zm4 0h-2v-4h2v4z\"/>\n",
              "    </g>\n",
              "</svg>\n",
              "  </button>\n",
              "\n",
              "<style>\n",
              "  .colab-df-quickchart {\n",
              "      --bg-color: #E8F0FE;\n",
              "      --fill-color: #1967D2;\n",
              "      --hover-bg-color: #E2EBFA;\n",
              "      --hover-fill-color: #174EA6;\n",
              "      --disabled-fill-color: #AAA;\n",
              "      --disabled-bg-color: #DDD;\n",
              "  }\n",
              "\n",
              "  [theme=dark] .colab-df-quickchart {\n",
              "      --bg-color: #3B4455;\n",
              "      --fill-color: #D2E3FC;\n",
              "      --hover-bg-color: #434B5C;\n",
              "      --hover-fill-color: #FFFFFF;\n",
              "      --disabled-bg-color: #3B4455;\n",
              "      --disabled-fill-color: #666;\n",
              "  }\n",
              "\n",
              "  .colab-df-quickchart {\n",
              "    background-color: var(--bg-color);\n",
              "    border: none;\n",
              "    border-radius: 50%;\n",
              "    cursor: pointer;\n",
              "    display: none;\n",
              "    fill: var(--fill-color);\n",
              "    height: 32px;\n",
              "    padding: 0;\n",
              "    width: 32px;\n",
              "  }\n",
              "\n",
              "  .colab-df-quickchart:hover {\n",
              "    background-color: var(--hover-bg-color);\n",
              "    box-shadow: 0 1px 2px rgba(60, 64, 67, 0.3), 0 1px 3px 1px rgba(60, 64, 67, 0.15);\n",
              "    fill: var(--button-hover-fill-color);\n",
              "  }\n",
              "\n",
              "  .colab-df-quickchart-complete:disabled,\n",
              "  .colab-df-quickchart-complete:disabled:hover {\n",
              "    background-color: var(--disabled-bg-color);\n",
              "    fill: var(--disabled-fill-color);\n",
              "    box-shadow: none;\n",
              "  }\n",
              "\n",
              "  .colab-df-spinner {\n",
              "    border: 2px solid var(--fill-color);\n",
              "    border-color: transparent;\n",
              "    border-bottom-color: var(--fill-color);\n",
              "    animation:\n",
              "      spin 1s steps(1) infinite;\n",
              "  }\n",
              "\n",
              "  @keyframes spin {\n",
              "    0% {\n",
              "      border-color: transparent;\n",
              "      border-bottom-color: var(--fill-color);\n",
              "      border-left-color: var(--fill-color);\n",
              "    }\n",
              "    20% {\n",
              "      border-color: transparent;\n",
              "      border-left-color: var(--fill-color);\n",
              "      border-top-color: var(--fill-color);\n",
              "    }\n",
              "    30% {\n",
              "      border-color: transparent;\n",
              "      border-left-color: var(--fill-color);\n",
              "      border-top-color: var(--fill-color);\n",
              "      border-right-color: var(--fill-color);\n",
              "    }\n",
              "    40% {\n",
              "      border-color: transparent;\n",
              "      border-right-color: var(--fill-color);\n",
              "      border-top-color: var(--fill-color);\n",
              "    }\n",
              "    60% {\n",
              "      border-color: transparent;\n",
              "      border-right-color: var(--fill-color);\n",
              "    }\n",
              "    80% {\n",
              "      border-color: transparent;\n",
              "      border-right-color: var(--fill-color);\n",
              "      border-bottom-color: var(--fill-color);\n",
              "    }\n",
              "    90% {\n",
              "      border-color: transparent;\n",
              "      border-bottom-color: var(--fill-color);\n",
              "    }\n",
              "  }\n",
              "</style>\n",
              "\n",
              "  <script>\n",
              "    async function quickchart(key) {\n",
              "      const quickchartButtonEl =\n",
              "        document.querySelector('#' + key + ' button');\n",
              "      quickchartButtonEl.disabled = true;  // To prevent multiple clicks.\n",
              "      quickchartButtonEl.classList.add('colab-df-spinner');\n",
              "      try {\n",
              "        const charts = await google.colab.kernel.invokeFunction(\n",
              "            'suggestCharts', [key], {});\n",
              "      } catch (error) {\n",
              "        console.error('Error during call to suggestCharts:', error);\n",
              "      }\n",
              "      quickchartButtonEl.classList.remove('colab-df-spinner');\n",
              "      quickchartButtonEl.classList.add('colab-df-quickchart-complete');\n",
              "    }\n",
              "    (() => {\n",
              "      let quickchartButtonEl =\n",
              "        document.querySelector('#df-144e5bb9-29b6-407e-832f-5b3b5fe0546c button');\n",
              "      quickchartButtonEl.style.display =\n",
              "        google.colab.kernel.accessAllowed ? 'block' : 'none';\n",
              "    })();\n",
              "  </script>\n",
              "</div>\n",
              "\n",
              "    </div>\n",
              "  </div>\n"
            ],
            "application/vnd.google.colaboratory.intrinsic+json": {
              "type": "dataframe",
              "variable_name": "df",
              "summary": "{\n  \"name\": \"df\",\n  \"rows\": 4665,\n  \"fields\": [\n    {\n      \"column\": \"title\",\n      \"properties\": {\n        \"dtype\": \"string\",\n        \"num_unique_values\": 4644,\n        \"samples\": [\n          \"AI Bot\",\n          \"THATSHALLOT\",\n          \"Instascribe\"\n        ],\n        \"semantic_type\": \"\",\n        \"description\": \"\"\n      }\n    },\n    {\n      \"column\": \"minidesc\",\n      \"properties\": {\n        \"dtype\": \"string\",\n        \"num_unique_values\": 4661,\n        \"samples\": [\n          \"Design smarter with magical new products.\",\n          \"Social Media on Autopilot\",\n          \"Your AI Persona Creator.\"\n        ],\n        \"semantic_type\": \"\",\n        \"description\": \"\"\n      }\n    },\n    {\n      \"column\": \"desc\",\n      \"properties\": {\n        \"dtype\": \"string\",\n        \"num_unique_values\": 4664,\n        \"samples\": [\n          \"Zust QR FeaturesZust QR is a cutting-edge AI tool that redefines the way QR codes are created, allowing users to infuse their own images and personalized prompts to craft artistic and engaging QR codes.Key Features:Personalized QR Codes: Users can seamlessly incorporate their preferred images and personalized prompts into QR codes, making them unique and visually appealing.PNG File Downloads: The resulting QR codes are downloadable as PNG files, ensuring compatibility and easy usage across various platforms and devices.AI-Powered Customization: By harnessing the capabilities of artificial intelligence, Zust QR offers advanced customization options that elevate the artistic elements of the generated QR codes.Developer-Friendly API: Zust QR provides an API for developers, enabling them to integrate the tool's features into their applications for enhanced customization and creative possibilities.API Integration and Potential: The API integration, although currently in a waitlist phase, highlights the tool's potential for wider implementation across diverse platforms and systems. This versatility is a testament to Zust QR's adaptability and potential for creative use cases.Developed by zust.ai, an organization based in India, Zust QR empowers users with a unique way to generate QR codes that are not only functional but also visually captivating and engaging. It's a tool that aligns well with marketing efforts, brand enhancement, and other creative endeavors, offering a fresh and artistic approach to traditional QR code generation.Whether for sharing information, promoting brands, or expressing creativity, Zust QR offers users the ability to craft QR codes that stand out, resonate with audiences, and visually represent the essence of the content they lead to.\",\n          \"Curipod FeaturesCreate interactive lessons use polls, wordclouds, open questions, drawings and Q&A to capture the student voices. Make your own slides in Curipod, or upload your existing presentation.\",\n          \"Remail FeaturesRemail is an AI-powered Chrome extension for Gmail that helps users compose high-quality email replies quickly. Key features and advantages include:AI-generated responses: Understands sentiment and context to provide multiple reply optionsOne-click replies: Positive or negative responses available for quick selectionCustomization: Custom responses, scheduling links, and tone-setting features for tailored communicationUse cases for Remail cater to various individuals:Professionals seeking to eliminate writer's block and save time on email compositionStudents and nonprofit organizations looking for efficient email communication toolsTeams requiring a unified solution for drafting and sending emailsWith a free trial, various pricing plans, and a 14-day refund policy, Remail offers a user-friendly solution for crafting thoughtful and accurate email replies.\"\n        ],\n        \"semantic_type\": \"\",\n        \"description\": \"\"\n      }\n    },\n    {\n      \"column\": \"cat\",\n      \"properties\": {\n        \"dtype\": \"category\",\n        \"num_unique_values\": 52,\n        \"samples\": [\n          \"AI experiments Tools\",\n          \"AI Fitness tools\",\n          \"AI Dating tools\"\n        ],\n        \"semantic_type\": \"\",\n        \"description\": \"\"\n      }\n    },\n    {\n      \"column\": \"new_image\",\n      \"properties\": {\n        \"dtype\": \"string\",\n        \"num_unique_values\": 4663,\n        \"samples\": [\n          \"https://tasticai.com/wp-content/uploads/aitools/zust-qr-ai-image-generator-tool.jpg\",\n          \"https://tasticai.com/wp-content/uploads/aitools/curipod-ai-education-assistant-tool.png\",\n          \"https://tasticai.com/wp-content/uploads/aitools/remail-ai-email-assistant-tool.jpg\"\n        ],\n        \"semantic_type\": \"\",\n        \"description\": \"\"\n      }\n    },\n    {\n      \"column\": \"url-href\",\n      \"properties\": {\n        \"dtype\": \"string\",\n        \"num_unique_values\": 4653,\n        \"samples\": [\n          \"https://neuralnewsletters.com\",\n          \"https://legalysis.co\",\n          \"https://freesubtitles.ai\"\n        ],\n        \"semantic_type\": \"\",\n        \"description\": \"\"\n      }\n    },\n    {\n      \"column\": \"vote\",\n      \"properties\": {\n        \"dtype\": \"number\",\n        \"std\": 245.73504043199335,\n        \"min\": 0.0,\n        \"max\": 4813.0,\n        \"num_unique_values\": 499,\n        \"samples\": [\n          123.0,\n          856.0,\n          128.0\n        ],\n        \"semantic_type\": \"\",\n        \"description\": \"\"\n      }\n    }\n  ]\n}"
            }
          },
          "metadata": {},
          "execution_count": 14
        }
      ]
    },
    {
      "cell_type": "code",
      "source": [
        "stop_words = set(stopwords.words('english'))\n",
        "lemmatizer = WordNetLemmatizer()"
      ],
      "metadata": {
        "colab": {
          "base_uri": "https://localhost:8080/"
        },
        "id": "j6HvrkgVCgMc",
        "outputId": "cd723d30-95a1-465f-9a17-2d3299201211"
      },
      "execution_count": 16,
      "outputs": [
        {
          "output_type": "stream",
          "name": "stderr",
          "text": [
            "/usr/local/lib/python3.10/dist-packages/ipykernel/ipkernel.py:283: DeprecationWarning: `should_run_async` will not call `transform_cell` automatically in the future. Please pass the result to `transformed_cell` argument and any exception that happen during thetransform in `preprocessing_exc_tuple` in IPython 7.17 and above.\n",
            "  and should_run_async(code)\n"
          ]
        }
      ]
    },
    {
      "cell_type": "markdown",
      "source": [
        "### clean data"
      ],
      "metadata": {
        "id": "b3wI2u4LEM8y"
      }
    },
    {
      "cell_type": "code",
      "execution_count": 18,
      "metadata": {
        "id": "MqIhDrlF_5Cu",
        "colab": {
          "base_uri": "https://localhost:8080/"
        },
        "outputId": "ef7e09c3-13a0-4e17-9d33-9edfeeb1dfad"
      },
      "outputs": [
        {
          "output_type": "stream",
          "name": "stderr",
          "text": [
            "/usr/local/lib/python3.10/dist-packages/ipykernel/ipkernel.py:283: DeprecationWarning: `should_run_async` will not call `transform_cell` automatically in the future. Please pass the result to `transformed_cell` argument and any exception that happen during thetransform in `preprocessing_exc_tuple` in IPython 7.17 and above.\n",
            "  and should_run_async(code)\n"
          ]
        }
      ],
      "source": [
        "def preprocess(text):\n",
        "    if isinstance(text, str):\n",
        "        tokens = word_tokenize(text.lower())\n",
        "        tokens = [lemmatizer.lemmatize(word) for word in tokens if word.isalpha() and word not in stop_words]\n",
        "        return tokens\n",
        "    return []\n",
        "\n",
        "descriptions = df['desc'].tolist()\n",
        "processed_descriptions = [preprocess(desc) for desc in descriptions]\n",
        "\n",
        "# Create a dictionary from the processed descriptions\n",
        "dictionary = corpora.Dictionary(processed_descriptions)\n",
        "\n",
        "# Create a corpus (bag of words for each document)\n",
        "corpus = [dictionary.doc2bow(text) for text in processed_descriptions]"
      ]
    },
    {
      "cell_type": "markdown",
      "source": [
        "### Training model"
      ],
      "metadata": {
        "id": "id356nd4En_c"
      }
    },
    {
      "cell_type": "code",
      "source": [
        "# Train the LDA model\n",
        "lda_model = LdaModel(corpus, num_topics=7, id2word=dictionary, passes=30) # passes: number of whole text reviews / num_topics: number of topics"
      ],
      "metadata": {
        "colab": {
          "base_uri": "https://localhost:8080/"
        },
        "id": "ChGK1-cRA7tS",
        "outputId": "f42556ba-1030-4867-9cf4-759f80dee6a6"
      },
      "execution_count": 19,
      "outputs": [
        {
          "output_type": "stream",
          "name": "stderr",
          "text": [
            "/usr/local/lib/python3.10/dist-packages/ipykernel/ipkernel.py:283: DeprecationWarning: `should_run_async` will not call `transform_cell` automatically in the future. Please pass the result to `transformed_cell` argument and any exception that happen during thetransform in `preprocessing_exc_tuple` in IPython 7.17 and above.\n",
            "  and should_run_async(code)\n"
          ]
        }
      ]
    },
    {
      "cell_type": "code",
      "source": [
        "# Print the topics found by the LDA model\n",
        "topics = lda_model.print_topics(num_words=10)\n",
        "for idx, topic in topics:\n",
        "    print(f\"Topic {idx}: {topic}\")"
      ],
      "metadata": {
        "colab": {
          "base_uri": "https://localhost:8080/"
        },
        "id": "KvAyQMELE5Bf",
        "outputId": "3ee343aa-e41b-4313-ee1e-6a60c561e523"
      },
      "execution_count": 20,
      "outputs": [
        {
          "output_type": "stream",
          "name": "stdout",
          "text": [
            "Topic 0: 0.031*\"photo\" + 0.023*\"ai\" + 0.022*\"image\" + 0.016*\"user\" + 0.015*\"avatar\" + 0.010*\"style\" + 0.010*\"feature\" + 0.009*\"profile\" + 0.009*\"background\" + 0.008*\"tool\"\n",
            "Topic 1: 0.064*\"content\" + 0.016*\"writing\" + 0.014*\"tool\" + 0.013*\"generate\" + 0.013*\"ai\" + 0.012*\"medium\" + 0.012*\"feature\" + 0.011*\"creation\" + 0.011*\"create\" + 0.011*\"user\"\n",
            "Topic 2: 0.023*\"user\" + 0.021*\"personalized\" + 0.011*\"ai\" + 0.009*\"feature\" + 0.009*\"offer\" + 0.008*\"individual\" + 0.008*\"tool\" + 0.008*\"based\" + 0.007*\"case\" + 0.007*\"recommendation\"\n",
            "Topic 3: 0.031*\"user\" + 0.015*\"ai\" + 0.013*\"tool\" + 0.013*\"language\" + 0.013*\"feature\" + 0.009*\"conversation\" + 0.009*\"information\" + 0.007*\"text\" + 0.007*\"email\" + 0.007*\"video\"\n",
            "Topic 4: 0.023*\"customer\" + 0.021*\"ai\" + 0.016*\"business\" + 0.013*\"user\" + 0.012*\"support\" + 0.010*\"tool\" + 0.009*\"feature\" + 0.009*\"data\" + 0.008*\"product\" + 0.007*\"search\"\n",
            "Topic 5: 0.027*\"ai\" + 0.022*\"image\" + 0.021*\"user\" + 0.018*\"create\" + 0.014*\"tool\" + 0.012*\"feature\" + 0.012*\"design\" + 0.011*\"generate\" + 0.010*\"creative\" + 0.009*\"unique\"\n",
            "Topic 6: 0.026*\"data\" + 0.017*\"ai\" + 0.013*\"tool\" + 0.013*\"code\" + 0.011*\"feature\" + 0.011*\"team\" + 0.010*\"process\" + 0.008*\"insight\" + 0.008*\"job\" + 0.008*\"analysis\"\n"
          ]
        },
        {
          "output_type": "stream",
          "name": "stderr",
          "text": [
            "/usr/local/lib/python3.10/dist-packages/ipykernel/ipkernel.py:283: DeprecationWarning: `should_run_async` will not call `transform_cell` automatically in the future. Please pass the result to `transformed_cell` argument and any exception that happen during thetransform in `preprocessing_exc_tuple` in IPython 7.17 and above.\n",
            "  and should_run_async(code)\n"
          ]
        }
      ]
    },
    {
      "cell_type": "code",
      "source": [],
      "metadata": {
        "id": "LDBo3SI-E5zh"
      },
      "execution_count": null,
      "outputs": []
    },
    {
      "cell_type": "code",
      "source": [],
      "metadata": {
        "colab": {
          "base_uri": "https://localhost:8080/"
        },
        "id": "tj_NVCeVIB06",
        "outputId": "0e0ffc43-8f8b-4f30-a626-94dd230fa732"
      },
      "execution_count": 24,
      "outputs": [
        {
          "output_type": "stream",
          "name": "stderr",
          "text": [
            "/usr/local/lib/python3.10/dist-packages/ipykernel/ipkernel.py:283: DeprecationWarning: `should_run_async` will not call `transform_cell` automatically in the future. Please pass the result to `transformed_cell` argument and any exception that happen during thetransform in `preprocessing_exc_tuple` in IPython 7.17 and above.\n",
            "  and should_run_async(code)\n"
          ]
        }
      ]
    },
    {
      "cell_type": "code",
      "source": [
        "# Prepare the visualization\n",
        "lda_display = gensimvis.prepare(lda_model, corpus, dictionary)\n",
        "\n",
        "# Show the visualization in a browser\n",
        "pyLDAvis.display(lda_display)"
      ],
      "metadata": {
        "colab": {
          "base_uri": "https://localhost:8080/",
          "height": 917
        },
        "id": "kkPLWqiIB-zR",
        "outputId": "297c081f-8338-4eeb-87fb-65d3f3e15be1"
      },
      "execution_count": 29,
      "outputs": [
        {
          "output_type": "stream",
          "name": "stderr",
          "text": [
            "/usr/local/lib/python3.10/dist-packages/ipykernel/ipkernel.py:283: DeprecationWarning: `should_run_async` will not call `transform_cell` automatically in the future. Please pass the result to `transformed_cell` argument and any exception that happen during thetransform in `preprocessing_exc_tuple` in IPython 7.17 and above.\n",
            "  and should_run_async(code)\n"
          ]
        },
        {
          "output_type": "execute_result",
          "data": {
            "text/plain": [
              "<IPython.core.display.HTML object>"
            ],
            "text/html": [
              "\n",
              "<link rel=\"stylesheet\" type=\"text/css\" href=\"https://cdn.jsdelivr.net/gh/bmabey/pyLDAvis@3.4.0/pyLDAvis/js/ldavis.v1.0.0.css\">\n",
              "\n",
              "\n",
              "<div id=\"ldavis_el10461326439590570727062398424\" style=\"background-color:white;\"></div>\n",
              "<script type=\"text/javascript\">\n",
              "\n",
              "var ldavis_el10461326439590570727062398424_data = {\"mdsDat\": {\"x\": [0.08762293567353688, -0.08968470669038382, 0.13757294534365555, 0.00045832475421362615, 0.146928103922065, -0.04129142336349039, -0.24160617963959702], \"y\": [-0.016549103878561806, 0.07010369043862354, -0.00025031044712339436, 0.1801967519676393, -0.02108769761776888, -0.20234575480699987, -0.010067575655808514], \"topics\": [1, 2, 3, 4, 5, 6, 7], \"cluster\": [1, 1, 1, 1, 1, 1, 1], \"Freq\": [19.25596924948943, 18.98648850851336, 16.70801873092296, 14.644992334671638, 14.185275039012698, 10.064924842115307, 6.154331295274608]}, \"tinfo\": {\"Term\": [\"content\", \"image\", \"customer\", \"data\", \"photo\", \"writing\", \"personalized\", \"medium\", \"code\", \"business\", \"design\", \"social\", \"create\", \"creation\", \"conversation\", \"creative\", \"art\", \"avatar\", \"team\", \"style\", \"video\", \"generate\", \"unique\", \"language\", \"user\", \"job\", \"post\", \"email\", \"article\", \"insight\", \"transcription\", \"concise\", \"summarization\", \"learner\", \"lengthy\", \"transcribe\", \"comprehension\", \"quiz\", \"flashcard\", \"trading\", \"passport\", \"spoken\", \"speaking\", \"translation\", \"crypto\", \"summarized\", \"nlg\", \"proficiency\", \"unbiased\", \"companionship\", \"comprehend\", \"cold\", \"official\", \"shortcut\", \"keyboard\", \"tldrai\", \"gmail\", \"summarizer\", \"exam\", \"recorded\", \"conversation\", \"student\", \"command\", \"summary\", \"recording\", \"explanation\", \"chatgpt\", \"transcript\", \"chat\", \"figure\", \"communication\", \"meeting\", \"speech\", \"ask\", \"academic\", \"document\", \"language\", \"question\", \"information\", \"important\", \"research\", \"email\", \"browser\", \"user\", \"file\", \"text\", \"answer\", \"response\", \"video\", \"accurate\", \"access\", \"assistant\", \"learning\", \"feature\", \"tool\", \"ai\", \"support\", \"offer\", \"various\", \"case\", \"experience\", \"provides\", \"key\", \"interface\", \"providing\", \"time\", \"art\", \"visually\", \"visuals\", \"artist\", \"appealing\", \"pet\", \"qr\", \"logo\", \"diffusion\", \"unleash\", \"course\", \"illustration\", \"designer\", \"imagination\", \"creatives\", \"vocal\", \"figma\", \"musician\", \"painting\", \"font\", \"artwork\", \"voiceovers\", \"sketch\", \"divi\", \"palette\", \"possibility\", \"texture\", \"striking\", \"midjourney\", \"comic\", \"music\", \"artistic\", \"creative\", \"design\", \"stunning\", \"name\", \"image\", \"bring\", \"creativity\", \"stable\", \"captivating\", \"game\", \"visual\", \"create\", \"unique\", \"prompt\", \"ai\", \"generate\", \"video\", \"voice\", \"audio\", \"generation\", \"user\", \"explore\", \"creation\", \"tool\", \"model\", \"feature\", \"interface\", \"text\", \"platform\", \"various\", \"case\", \"offer\", \"style\", \"option\", \"range\", \"looking\", \"customer\", \"chatbots\", \"outreach\", \"survey\", \"formula\", \"sql\", \"receipt\", \"prospect\", \"visitor\", \"regulation\", \"asked\", \"administrator\", \"devgpt\", \"describot\", \"alignment\", \"scalability\", \"guest\", \"autocomplete\", \"hotel\", \"o\", \"seller\", \"asinstant\", \"beamcast\", \"alphactr\", \"factual\", \"reddit\", \"signal\", \"jira\", \"retailer\", \"anomaly\", \"satisfaction\", \"lead\", \"ticket\", \"sale\", \"agent\", \"database\", \"operational\", \"chatbot\", \"crm\", \"reduces\", \"business\", \"reduction\", \"documentation\", \"product\", \"query\", \"service\", \"internal\", \"enterprise\", \"support\", \"trust\", \"website\", \"search\", \"reducing\", \"response\", \"integration\", \"knowledge\", \"deliver\", \"solution\", \"ai\", \"insight\", \"team\", \"data\", \"engagement\", \"process\", \"experience\", \"efficiency\", \"user\", \"tool\", \"time\", \"feature\", \"platform\", \"enhance\", \"case\", \"need\", \"capability\", \"personalized\", \"offer\", \"copy\", \"tweet\", \"podcast\", \"copywriting\", \"episode\", \"show\", \"kotlibes\", \"headline\", \"seo\", \"talgg\", \"bedtime\", \"chess\", \"rap\", \"affiliate\", \"blogger\", \"repurposing\", \"tale\", \"niche\", \"copywriter\", \"follower\", \"fluency\", \"foreign\", \"texo\", \"moly\", \"blackbox\", \"chapter\", \"paraphrasing\", \"poetry\", \"writeplus\", \"blogging\", \"writing\", \"writer\", \"ad\", \"plagiarism\", \"newsletter\", \"audience\", \"content\", \"blog\", \"post\", \"twitter\", \"article\", \"compelling\", \"repurpose\", \"instagram\", \"title\", \"publishing\", \"target\", \"wordpress\", \"marketer\", \"linkedin\", \"comment\", \"medium\", \"marketing\", \"social\", \"news\", \"reach\", \"engaging\", \"story\", \"write\", \"creation\", \"creator\", \"generate\", \"template\", \"generation\", \"create\", \"tool\", \"email\", \"feature\", \"ai\", \"case\", \"user\", \"time\", \"enhance\", \"various\", \"looking\", \"process\", \"business\", \"help\", \"job\", \"resume\", \"candidate\", \"programming\", \"llm\", \"itinerary\", \"recruitment\", \"contract\", \"testing\", \"debugging\", \"python\", \"recruiter\", \"workforce\", \"superluminal\", \"qualification\", \"codebase\", \"audit\", \"securing\", \"lego\", \"resumine\", \"behavioral\", \"cv\", \"json\", \"codebases\", \"vary\", \"ml\", \"automaited\", \"raster\", \"ace\", \"evaluation\", \"datasets\", \"code\", \"chart\", \"predictive\", \"hiring\", \"engineering\", \"developer\", \"seeker\", \"copilot\", \"data\", \"apis\", \"development\", \"interview\", \"letter\", \"analysis\", \"workflow\", \"management\", \"coding\", \"cover\", \"task\", \"team\", \"performance\", \"collaboration\", \"analytics\", \"report\", \"test\", \"application\", \"model\", \"insight\", \"project\", \"process\", \"decision\", \"ai\", \"tool\", \"feature\", \"productivity\", \"streamline\", \"platform\", \"case\", \"time\", \"integration\", \"user\", \"comprehensive\", \"offer\", \"health\", \"travel\", \"dream\", \"fitness\", \"recipe\", \"workout\", \"patient\", \"trip\", \"mental\", \"medical\", \"deck\", \"interior\", \"holiday\", \"sleep\", \"meal\", \"loved\", \"exercise\", \"meditation\", \"occasion\", \"ingredient\", \"food\", \"thoughtful\", \"traveler\", \"playlist\", \"wellness\", \"homeowner\", \"culinary\", \"relaxation\", \"living\", \"cooking\", \"gift\", \"stress\", \"home\", \"pitch\", \"advice\", \"greeting\", \"interest\", \"room\", \"card\", \"recommendation\", \"child\", \"personalized\", \"guidance\", \"planning\", \"book\", \"preference\", \"discover\", \"individual\", \"based\", \"user\", \"tailored\", \"plan\", \"help\", \"receive\", \"app\", \"offer\", \"experience\", \"ai\", \"feature\", \"provides\", \"case\", \"tool\", \"new\", \"insight\", \"unique\", \"personal\", \"idea\", \"provide\", \"photo\", \"avatar\", \"dating\", \"old\", \"photographer\", \"photography\", \"facial\", \"tax\", \"headshot\", \"wardrobe\", \"clothing\", \"selfies\", \"codethreat\", \"restore\", \"batch\", \"journaling\", \"black\", \"unity\", \"genworlds\", \"remover\", \"cartoon\", \"camera\", \"hearing\", \"upscale\", \"outfit\", \"colorization\", \"sighted\", \"siri\", \"hairstyle\", \"robot\", \"portrait\", \"face\", \"picture\", \"removal\", \"remove\", \"profile\", \"background\", \"legal\", \"character\", \"resolution\", \"unwanted\", \"style\", \"image\", \"editing\", \"realistic\", \"online\", \"app\", \"ai\", \"quality\", \"social\", \"upload\", \"medium\", \"user\", \"professional\", \"individual\", \"unique\", \"feature\", \"personal\", \"technology\", \"tool\", \"create\", \"case\", \"enhance\", \"various\", \"personalized\", \"offer\"], \"Freq\": [5197.0, 2652.0, 1845.0, 2695.0, 912.0, 1198.0, 2089.0, 1208.0, 997.0, 1941.0, 1245.0, 1024.0, 3130.0, 1629.0, 921.0, 999.0, 727.0, 429.0, 1339.0, 826.0, 1668.0, 2311.0, 1463.0, 1780.0, 8603.0, 548.0, 616.0, 1243.0, 620.0, 1627.0, 337.38627115597114, 195.78159189895538, 192.162100355768, 105.92874908660495, 98.9122873615646, 83.29938113121483, 82.86123850256011, 104.3393687304975, 74.99342364645511, 69.61521927758126, 66.25428647769128, 64.58714264905838, 54.51427547518929, 289.6394136413549, 52.26179768526396, 51.16282563513171, 38.196284231977586, 37.943427538528724, 36.75359624579297, 36.57793201940975, 36.33959594143863, 35.71418753621745, 34.97461005803378, 34.67372753621594, 34.52846801644223, 33.000718894495925, 31.9080519186698, 31.048360506942164, 30.06119612868864, 29.703501231870398, 866.4815525036078, 270.00036925994567, 203.14566253652404, 657.8363709522505, 118.47198866655957, 90.81353014771796, 571.5533688905829, 79.18083615266083, 631.7373443536247, 47.665086330872924, 576.083459383664, 350.1734421337529, 163.52334820193914, 162.43318671268662, 130.27943167831435, 480.3212970773303, 1195.9301433503924, 516.9729741850484, 784.5157359460098, 134.97939362743654, 365.24032305904296, 678.192085887206, 119.70304441889311, 2802.690667586283, 269.16633840666157, 681.7321916619821, 339.08767531219206, 414.77580447973986, 672.911171242983, 376.7946985856137, 641.1049931021412, 412.2507863175014, 457.75413669806073, 1166.7487118767683, 1209.1001975032193, 1396.3560054883908, 541.4930799668304, 615.2562696818941, 558.5629199691118, 638.7371668728365, 511.0754590282341, 459.2551873123866, 386.47446852415686, 395.10901030028424, 383.187056679591, 377.426027837168, 726.8014136803876, 475.81336814377215, 273.71755907436193, 282.78657450712035, 242.8251571076518, 213.4567247117808, 194.1233142313675, 175.90977629007918, 175.25646907559926, 129.61857178869337, 127.52694686256652, 130.33144277305018, 339.8566008693927, 87.95584053393956, 83.04834364870062, 67.8650230490071, 60.35036944281299, 57.62632145438301, 57.46348399975584, 51.598515299197544, 296.08834296766264, 44.69684234102254, 47.77049072118303, 40.727456414984424, 39.36893152915884, 188.49740040651997, 36.76147488462743, 34.63345660034215, 34.2511145515393, 33.89441070668743, 452.1344754654475, 252.67136397732662, 902.9115704902946, 1082.7609850232848, 377.3426700669357, 212.85702489019008, 1999.7235435911914, 164.8121830240088, 392.49026292833736, 124.77420618534339, 361.73296337817834, 206.1697815035718, 366.32223608721466, 1596.2903427257784, 783.7809999298822, 610.8028450520734, 2454.67658506612, 958.4317391414633, 765.2975412936165, 413.19568170096403, 432.32108202671543, 671.5018204031799, 1930.4047857063554, 397.7216036104705, 648.2996483565554, 1238.9104175149057, 543.3711431671035, 1090.4425645160136, 541.0505555305152, 553.785752570098, 651.3605105210974, 610.853568969177, 690.6334086258726, 582.5384681730438, 409.2997060165723, 408.4152576993405, 403.11273515511425, 397.8246510370843, 1844.948514440497, 283.1028883127883, 114.80184874754589, 90.05755710642181, 85.56418679764282, 244.52446588538325, 69.07792143513129, 49.02703225133677, 99.66759234241478, 38.72761075634546, 36.732382682029744, 34.54279929745334, 34.18337116090035, 32.99558535621828, 32.99270063333525, 30.130374868417103, 28.6477754785003, 28.330659697814326, 28.15684935614436, 27.95088569874441, 27.23241374666458, 26.42569150015824, 26.39795787622899, 26.404225087179526, 26.059280759901217, 24.743203503278952, 49.987256019986624, 23.87542051735279, 23.141073328668664, 22.978165202132082, 143.52033466448404, 192.6068070244075, 38.828624676176595, 503.671133657851, 219.47671806630987, 223.58811957883344, 54.48039481007516, 466.38147391196867, 75.34852644967016, 69.19627842006419, 1265.118288876208, 49.548347517001446, 221.3843209466633, 654.382355501047, 379.91620711033886, 467.94194692860594, 80.26321447133378, 102.48192428280221, 983.2816596282305, 72.07168036061906, 495.78549593208294, 568.0842266724284, 127.93738577650926, 387.0814698003916, 473.06336261934797, 308.71978315897377, 129.91185125466524, 512.3989437720074, 1685.5860133014605, 536.0049598804026, 457.48019147343035, 688.0405797619557, 271.08319728582285, 559.6186068448351, 518.5112224148937, 293.1286662915998, 1003.750801217448, 816.3483861824407, 447.5270733204303, 698.0521147109306, 489.41950984745165, 459.68447166447663, 509.65250237240815, 394.97488655415884, 344.6642452273488, 402.6884966321734, 392.684296195312, 357.07180371130755, 230.82516139703554, 194.60656349705596, 154.45413945855654, 80.40572144980615, 77.99361644913733, 54.11827228924975, 50.7623271131677, 324.055665498577, 40.5649764083039, 38.557521610510456, 37.17192716952752, 37.131340795983085, 33.80946382185424, 97.84024758779557, 30.781381459220174, 29.39456536839355, 29.545830782593665, 29.235899028977606, 29.09561425813994, 29.122746248854394, 28.88281178437175, 27.122361597332397, 27.12172236194907, 26.35147213550408, 26.330775114315095, 25.67195477643635, 25.056166141108097, 24.42268996418918, 24.263660376730012, 1138.391801195052, 457.50609689509696, 345.209932771914, 72.84630644528713, 107.57192647715993, 419.23736762554194, 4491.561616115936, 529.3465431275577, 554.563246639902, 226.20323388144337, 552.3787256702462, 266.44637658208933, 43.31969939852279, 92.86879834051342, 149.0678568872767, 55.59830310419588, 158.34413231364834, 110.32006229895256, 255.56068909918656, 183.38225578239727, 105.46219807667187, 849.3735077808174, 636.5629167379188, 716.8308799186404, 307.3736918988485, 162.5380359338409, 667.0333477255471, 296.74554930790936, 176.2966542199107, 795.5225332890939, 492.207673559282, 936.1757472257979, 305.8999195027029, 534.4647121152029, 784.1471793266522, 1010.0045686018487, 421.8367462710195, 839.4461457500458, 906.2093665284928, 588.7610652356535, 782.9791359651422, 458.0715787204169, 431.942785752683, 438.0599964423993, 362.2189026660153, 377.74984671202355, 358.19526700011636, 350.27102108380643, 547.3961742035065, 241.03741338659023, 181.25309852452054, 124.97933602921941, 120.22142680217087, 96.11933186417838, 89.28492141825691, 74.17763853432585, 209.48526894541843, 51.85772121181181, 51.22860588548792, 48.518362278245974, 36.319064055822246, 35.66239471261275, 34.23282517111601, 33.284847480747075, 34.041008486011215, 29.215234371889448, 29.445710809034924, 29.004742361172564, 29.06342585197866, 28.79220807455725, 27.11164105608869, 27.053704499682404, 26.7786930817567, 38.64378730068665, 24.54799904974412, 24.550515039301377, 23.936436681815763, 83.80552073579646, 43.50028400604269, 870.4282248420599, 61.21002393208949, 45.13148259191752, 108.39765181486828, 66.94284766270431, 539.1246069350797, 92.45807172293037, 83.40718455161166, 1775.9367662814282, 92.13041912036965, 431.9217199362774, 251.04075199220935, 182.03808726638366, 540.4024151314698, 391.8847152119626, 516.3442399361861, 285.84069300323137, 225.12687724910384, 523.7584837629787, 722.0942236101017, 285.1019041196133, 306.6401270740908, 196.62066839061688, 178.69273320145095, 142.49437374463793, 374.1898235555373, 486.9443987617668, 550.6579659652689, 298.42120688714954, 644.4182667082295, 186.5361891217763, 1123.0421307548115, 872.1764601859174, 756.215570787663, 293.7197344508572, 311.74277404528726, 454.3627742935058, 496.509121762883, 377.6362260510632, 306.6293397688641, 496.51431099134487, 286.0585147991506, 323.7991129548211, 326.5008849048031, 298.1768436405109, 233.95726188859155, 168.52535436618558, 168.01434706533718, 158.95089619872383, 145.56974604615147, 134.5462139877511, 129.84532617034367, 115.9784736199431, 112.1971311673113, 102.7896541191617, 94.44575285602028, 93.65883508480766, 91.22052692950612, 79.53195457261839, 73.0954382680346, 72.5135259148523, 64.63790482464229, 57.86958523149342, 50.424956401563385, 47.34346522511865, 43.10988131123601, 42.60793936916356, 42.392574338058175, 40.187310058145734, 37.17065432766672, 36.47068032046854, 36.33648232783143, 36.275694215891534, 228.51280266162647, 87.22655300010754, 120.13314149367507, 146.1659732981763, 169.34991708571835, 62.272219955830316, 138.97812005824028, 96.49924350463489, 205.52914472686894, 354.54489863117624, 149.91666647012184, 1014.6736805712965, 253.3040875576297, 142.5023633573033, 209.26786604654788, 212.9964787938563, 181.4857268258126, 406.0108762051132, 378.1003268746516, 1118.5489239559156, 301.9355143281793, 292.9947610005928, 330.24627832854117, 220.30343690140273, 263.7641615439745, 414.4159421412514, 328.2178248061952, 508.8791897450387, 416.6511193157833, 298.5658116868467, 358.1984669438666, 391.742302740585, 224.8313186225884, 260.3995243461918, 252.357652944054, 214.92498464369135, 184.29800752936387, 184.36771874368048, 912.0126618816148, 429.14863858077126, 184.53342884068647, 72.23632040245286, 69.27122499852935, 63.85082508464823, 61.90416531922414, 56.754301016455535, 49.554596210075104, 43.2807891201643, 42.943503949250896, 42.5199608000727, 40.76947337901645, 37.04556564998511, 36.57543971316172, 36.15346910829405, 35.66200978292841, 34.42342817443355, 33.60248841000367, 33.51821913745045, 33.432285219293036, 33.4353382066204, 31.490766070519598, 30.01492470720096, 29.73331306273433, 29.00937301633891, 28.370858625406182, 26.95276136206249, 26.79017358387513, 26.35263786037645, 232.6069612029757, 126.24226082595533, 176.18951555139643, 81.37575691027763, 111.65815741894569, 269.49157813668495, 263.4780049576312, 141.3591258718051, 196.45375134276753, 101.71961597560995, 42.707178851999956, 295.1929694550679, 651.7059159570591, 166.96194833900213, 104.55089161098331, 190.63615607201723, 209.26265348158492, 686.4334250804569, 149.48037234458027, 195.96732006580473, 99.05859128717358, 199.15672646489318, 469.0447904373701, 203.6433693519111, 185.6421646808953, 197.02097251007808, 287.3771308721177, 145.00031981679862, 175.77817070689156, 246.83474176055347, 209.54920448431972, 209.53614656757208, 184.02845450326384, 181.62502007744015, 171.22685224475995, 154.59839347785066], \"Total\": [5197.0, 2652.0, 1845.0, 2695.0, 912.0, 1198.0, 2089.0, 1208.0, 997.0, 1941.0, 1245.0, 1024.0, 3130.0, 1629.0, 921.0, 999.0, 727.0, 429.0, 1339.0, 826.0, 1668.0, 2311.0, 1463.0, 1780.0, 8603.0, 548.0, 616.0, 1243.0, 620.0, 1627.0, 338.1318056100354, 196.52753134613238, 192.90784345921443, 106.67497016558114, 99.65813622093246, 84.04519821270901, 83.60809131660137, 105.30660200748649, 75.73860492470317, 70.3615030671459, 67.00501763456822, 65.3355826421799, 55.262242374114294, 293.70448880110814, 53.00879364456207, 51.90974500719452, 38.9428968857565, 38.69137877553936, 37.5003759320019, 37.32421866627205, 37.08603967883682, 36.465780358504894, 35.72121629528302, 35.41938408855125, 35.27415734766607, 33.745646137615616, 32.654318142230416, 31.79379192814615, 30.808423831582115, 30.44969802028177, 921.9386418824342, 288.2976548772906, 216.2484106078107, 728.2966669046281, 126.57780359603264, 95.98907528528426, 666.1482491994011, 83.7556254174093, 751.0569398126522, 49.45982841346059, 708.5590544468973, 416.3618200754925, 185.16144104283043, 184.84021792040113, 145.8629005380461, 625.9205426446915, 1780.0691218059926, 705.5487408980101, 1159.4140748004602, 159.93928742517537, 547.3931332285056, 1243.1611336498465, 138.93666130166673, 8603.93341585986, 405.28516264163386, 1472.8189342848123, 587.4355762152003, 802.8160952729627, 1668.9330101243427, 712.209790998114, 1634.6899936650605, 855.3263248806529, 1050.3321579656547, 5254.933357829323, 5785.117074489471, 8761.182715964771, 2020.8341898119736, 2791.888051650401, 2393.2658326671, 3492.0278783810923, 1932.6824418833119, 1774.497087272178, 1005.265258313925, 1397.088449538156, 1069.1109350556198, 1803.9647483528097, 727.6077413338529, 476.56900040276315, 274.451215706595, 283.54890104208295, 243.56063940822878, 214.19094559943196, 194.85580080688626, 176.64273737931788, 175.98936590577284, 130.35270650120432, 128.26355164389773, 131.11415696962703, 342.3370436891061, 88.71479063571286, 83.78390597363911, 68.59764469670826, 61.083864944626676, 58.358869579355414, 58.20309818398636, 52.34303124847815, 300.6878339930823, 45.42988532164052, 48.61388419862162, 41.46027750029875, 40.10547038651872, 192.20010160136644, 37.49441690512122, 35.36630463123093, 34.98412023299232, 34.626829481814205, 462.1622378157455, 259.0662587211147, 999.2034770391838, 1245.9034920520535, 426.6127981749357, 239.52782388052134, 2652.2275695921835, 183.95074657586397, 468.87517284822036, 139.33554333137508, 477.8586048199337, 253.12477857908164, 505.95204447198194, 3130.4357046148853, 1463.4237835244937, 1089.60536913204, 8761.182715964771, 2311.9157194148124, 1668.9330101243427, 687.9386825621581, 755.6755813679706, 1491.8447866169247, 8603.93341585986, 701.1660086266667, 1629.0905791985044, 5785.117074489471, 1319.8741603002777, 5254.933357829323, 1397.088449538156, 1472.8189342848123, 2390.3709890598197, 2393.2658326671, 3492.0278783810923, 2791.888051650401, 826.1456705608906, 898.3858155275116, 1128.746511864553, 1524.641408405039, 1845.702470614482, 283.85680549414656, 115.55581967249165, 90.8138284995799, 86.31855069661833, 246.98998863764191, 69.83205184387066, 49.780632195462914, 101.52608932519526, 39.48224893489603, 37.48684518120901, 35.29804200864685, 34.937584270371, 33.74933038203807, 33.75397116571932, 30.88745326399646, 29.402684321647982, 29.085993350029376, 28.91218375592052, 28.706231692304787, 27.986692781582608, 27.178471972397286, 27.152293447461457, 27.15884830369071, 26.815464538301754, 25.499663184393253, 51.56539855160655, 24.631978094601056, 23.896203530903957, 23.733925356164203, 148.41266272087137, 203.1273012246123, 40.447000214007915, 558.3774385933987, 238.87240743475687, 249.02064878048998, 57.9853018291589, 606.0832736242171, 84.2496036658152, 77.40724308295897, 1941.1019897524714, 54.013268851045574, 290.3152592757453, 990.8273065482758, 534.6568970523555, 733.5155785787534, 94.49199876742762, 128.13565356834255, 2020.8341898119736, 85.29745187303674, 961.0105618794443, 1170.6563641168696, 179.62528284997532, 802.8160952729627, 1066.1942286689207, 604.062092048004, 187.15789466386016, 1462.0782663389393, 8761.182715964771, 1627.1845208767231, 1339.4694751735412, 2695.128908409122, 611.9017205250626, 2165.798376481941, 1932.6824418833119, 712.2534668629205, 8603.93341585986, 5785.117074489471, 1803.9647483528097, 5254.933357829323, 2390.3709890598197, 2073.0829930297946, 3492.0278783810923, 1593.9311317107665, 1040.899660243397, 2089.1532932989135, 2791.888051650401, 357.8008372443354, 231.55281882620625, 195.3347704391699, 155.1822694123277, 81.13457041436361, 78.72531900770832, 54.84560434084432, 51.490152304569186, 329.0357304321239, 41.295658922509226, 39.28613650908538, 37.900531700562254, 37.85982738643178, 34.53842720490759, 100.11554224203847, 31.509235262721845, 30.12321127196972, 30.279213973996168, 29.963492102470113, 29.82379373432515, 29.85434472743046, 29.613898581795176, 27.849520835105018, 27.848920902656918, 27.079956957429527, 27.059258130077357, 26.399299873117396, 25.78601489114497, 25.14984149044101, 24.992944006661297, 1198.5597992319445, 478.9572381012046, 361.2664758602454, 75.84553941537165, 113.09434852069528, 455.5469354544272, 5197.709241900347, 583.3366761659531, 616.4131719403337, 246.22303287667359, 620.5520934457265, 296.52949880130353, 44.98996005551584, 99.58716276626231, 163.94475796074084, 58.36175028772853, 179.1539977537765, 122.54071842440796, 305.6032065583779, 214.59832406746483, 118.42368860083512, 1208.541017435611, 881.7941876135549, 1024.1630165478098, 414.30526825902604, 196.43284260676353, 1077.1603016421589, 416.82076141901695, 222.11122685724823, 1629.0905791985044, 906.6863523109546, 2311.9157194148124, 493.6211761903643, 1491.8447866169247, 3130.4357046148853, 5785.117074489471, 1243.1611336498465, 5254.933357829323, 8761.182715964771, 3492.0278783810923, 8603.93341585986, 1803.9647483528097, 2073.0829930297946, 2393.2658326671, 1524.641408405039, 2165.798376481941, 1941.1019897524714, 1420.657554251644, 548.1484820006747, 241.78969465671886, 182.00479815960074, 125.7322419867543, 120.9735790485256, 96.87500344845843, 90.0380188938168, 74.938159725518, 211.9081685893307, 52.60954775111667, 51.98116252200882, 49.27034671741865, 37.07441381394097, 36.414375110788605, 34.98526423092835, 34.036988174120154, 34.828555856571846, 29.96762607261201, 30.20455227348665, 29.75605795851697, 29.81685287659826, 29.543814285280945, 27.8649681803302, 27.805680289407483, 27.530149547319162, 39.74533272067248, 25.299872239157352, 25.30249073861075, 24.687815750145557, 86.48288203842205, 45.10978350529605, 997.0965242838885, 65.73654909871064, 47.71813888340634, 121.9202859002805, 73.16037555082279, 697.0429955494621, 103.97255171900758, 93.59572633957579, 2695.128908409122, 106.80807384719233, 597.9620510509027, 331.12845212378784, 234.10525345249482, 854.5963626699519, 614.3589377813475, 854.4302956521036, 426.4850744670562, 322.13566752509035, 901.1294410619639, 1339.4694751735412, 443.85618216859126, 539.6808575389856, 301.0882199183456, 265.77388205603523, 199.86255259052155, 851.872390747411, 1319.8741603002777, 1627.1845208767231, 636.2979147642725, 2165.798376481941, 320.3806789257641, 8761.182715964771, 5785.117074489471, 5254.933357829323, 767.2426563768169, 946.0372580980755, 2390.3709890598197, 3492.0278783810923, 1803.9647483528097, 1066.1942286689207, 8603.93341585986, 883.1211838325382, 2791.888051650401, 327.235714807424, 298.9120855141906, 234.69243173432992, 169.25998119581917, 168.74979324558666, 159.68514257319728, 146.30486195796104, 135.28086985723297, 130.57991750253166, 116.7137506623599, 112.93245045976228, 103.52499887735614, 95.18142114531653, 94.39313736940946, 91.95570492574848, 80.26783617311101, 73.8306724669091, 73.24779710549407, 65.3726193081924, 58.60391115690236, 51.16016738157992, 48.07895386610722, 43.84475545012169, 43.34462649891874, 43.12712097677994, 40.92190066700001, 37.90495710107176, 37.20491683483085, 37.07138911862998, 37.01000706049213, 234.7606883394, 91.46814381415874, 127.70946797504823, 166.45934307382797, 195.72342672334958, 66.28107229592602, 165.40915471077975, 109.95825235388715, 275.1155816863121, 540.5870419649165, 191.60422372169998, 2089.1532932989135, 371.21634844125686, 183.30582920615242, 316.90737631097267, 331.04597670741856, 290.680047698066, 1220.0665394992886, 1106.4357098815242, 8603.93341585986, 931.898379475896, 911.7648255153481, 1420.657554251644, 551.3880334470249, 884.746442377953, 2791.888051650401, 1932.6824418833119, 8761.182715964771, 5254.933357829323, 1774.497087272178, 3492.0278783810923, 5785.117074489471, 772.3636370341914, 1627.1845208767231, 1463.4237835244937, 737.1108758350856, 853.668458304503, 928.9852875709308, 912.7565703961957, 429.891717983895, 185.27871201859844, 72.97948062585739, 70.014475071409, 64.5939923314595, 62.67652233552644, 57.49901672311953, 50.297450187637885, 44.02440690131247, 43.6872184643057, 43.26286382894565, 41.513535976635126, 37.788531656857124, 37.31972649410803, 36.90000725676988, 36.40565958607036, 35.166842239514374, 34.345941486454976, 34.261221375985954, 34.17527383941955, 34.17917233081177, 32.235581231661165, 30.75799178139369, 30.47653585679812, 29.752454206941447, 29.114911201693513, 27.696508515049725, 27.53299246457795, 27.09682930480335, 241.0122494283729, 130.7454220477985, 199.62693182438193, 88.70641978878143, 125.11945807294941, 326.6770040895595, 327.62511118883936, 186.3305188087291, 307.03259182412313, 149.64795790623762, 47.7572603078926, 826.1456705608906, 2652.2275695921835, 491.88582053212644, 223.93702169989248, 680.9667761680405, 884.746442377953, 8761.182715964771, 552.2734681659429, 1024.1630165478098, 261.8280828925829, 1208.541017435611, 8603.93341585986, 1423.8142239657684, 1220.0665394992886, 1463.4237835244937, 5254.933357829323, 737.1108758350856, 1405.247508939677, 5785.117074489471, 3130.4357046148853, 3492.0278783810923, 2073.0829930297946, 2393.2658326671, 2089.1532932989135, 2791.888051650401], \"Category\": [\"Default\", \"Default\", \"Default\", \"Default\", \"Default\", \"Default\", \"Default\", \"Default\", \"Default\", \"Default\", \"Default\", \"Default\", \"Default\", \"Default\", \"Default\", \"Default\", \"Default\", \"Default\", \"Default\", \"Default\", \"Default\", \"Default\", \"Default\", \"Default\", \"Default\", \"Default\", \"Default\", \"Default\", \"Default\", \"Default\", \"Topic1\", \"Topic1\", \"Topic1\", \"Topic1\", \"Topic1\", \"Topic1\", \"Topic1\", \"Topic1\", \"Topic1\", \"Topic1\", \"Topic1\", \"Topic1\", \"Topic1\", \"Topic1\", \"Topic1\", \"Topic1\", \"Topic1\", \"Topic1\", \"Topic1\", \"Topic1\", \"Topic1\", \"Topic1\", \"Topic1\", \"Topic1\", \"Topic1\", \"Topic1\", \"Topic1\", \"Topic1\", \"Topic1\", \"Topic1\", \"Topic1\", \"Topic1\", \"Topic1\", \"Topic1\", \"Topic1\", \"Topic1\", \"Topic1\", \"Topic1\", \"Topic1\", \"Topic1\", \"Topic1\", \"Topic1\", \"Topic1\", \"Topic1\", \"Topic1\", \"Topic1\", \"Topic1\", \"Topic1\", \"Topic1\", \"Topic1\", \"Topic1\", \"Topic1\", \"Topic1\", \"Topic1\", \"Topic1\", \"Topic1\", \"Topic1\", \"Topic1\", \"Topic1\", \"Topic1\", \"Topic1\", \"Topic1\", \"Topic1\", \"Topic1\", \"Topic1\", \"Topic1\", \"Topic1\", \"Topic1\", \"Topic1\", \"Topic1\", \"Topic1\", \"Topic1\", \"Topic1\", \"Topic1\", \"Topic1\", \"Topic1\", \"Topic2\", \"Topic2\", \"Topic2\", \"Topic2\", \"Topic2\", \"Topic2\", \"Topic2\", \"Topic2\", \"Topic2\", \"Topic2\", \"Topic2\", \"Topic2\", \"Topic2\", \"Topic2\", \"Topic2\", \"Topic2\", \"Topic2\", \"Topic2\", \"Topic2\", \"Topic2\", \"Topic2\", \"Topic2\", \"Topic2\", \"Topic2\", \"Topic2\", \"Topic2\", \"Topic2\", \"Topic2\", \"Topic2\", \"Topic2\", \"Topic2\", \"Topic2\", \"Topic2\", \"Topic2\", \"Topic2\", \"Topic2\", \"Topic2\", \"Topic2\", \"Topic2\", \"Topic2\", \"Topic2\", \"Topic2\", \"Topic2\", \"Topic2\", \"Topic2\", \"Topic2\", \"Topic2\", \"Topic2\", \"Topic2\", \"Topic2\", \"Topic2\", \"Topic2\", \"Topic2\", \"Topic2\", \"Topic2\", \"Topic2\", \"Topic2\", \"Topic2\", \"Topic2\", \"Topic2\", \"Topic2\", \"Topic2\", \"Topic2\", \"Topic2\", \"Topic2\", \"Topic2\", \"Topic2\", \"Topic2\", \"Topic3\", \"Topic3\", \"Topic3\", \"Topic3\", \"Topic3\", \"Topic3\", \"Topic3\", \"Topic3\", \"Topic3\", \"Topic3\", \"Topic3\", \"Topic3\", \"Topic3\", \"Topic3\", \"Topic3\", \"Topic3\", \"Topic3\", \"Topic3\", \"Topic3\", \"Topic3\", \"Topic3\", \"Topic3\", \"Topic3\", \"Topic3\", \"Topic3\", \"Topic3\", \"Topic3\", \"Topic3\", \"Topic3\", \"Topic3\", \"Topic3\", \"Topic3\", \"Topic3\", \"Topic3\", \"Topic3\", \"Topic3\", \"Topic3\", \"Topic3\", \"Topic3\", \"Topic3\", \"Topic3\", \"Topic3\", \"Topic3\", \"Topic3\", \"Topic3\", \"Topic3\", \"Topic3\", \"Topic3\", \"Topic3\", \"Topic3\", \"Topic3\", \"Topic3\", \"Topic3\", \"Topic3\", \"Topic3\", \"Topic3\", \"Topic3\", \"Topic3\", \"Topic3\", \"Topic3\", \"Topic3\", \"Topic3\", \"Topic3\", \"Topic3\", \"Topic3\", \"Topic3\", \"Topic3\", \"Topic3\", \"Topic3\", \"Topic3\", \"Topic3\", \"Topic3\", \"Topic3\", \"Topic3\", \"Topic3\", \"Topic3\", \"Topic3\", \"Topic4\", \"Topic4\", \"Topic4\", \"Topic4\", \"Topic4\", \"Topic4\", \"Topic4\", \"Topic4\", \"Topic4\", \"Topic4\", \"Topic4\", \"Topic4\", \"Topic4\", \"Topic4\", \"Topic4\", \"Topic4\", \"Topic4\", \"Topic4\", \"Topic4\", \"Topic4\", \"Topic4\", \"Topic4\", \"Topic4\", \"Topic4\", \"Topic4\", \"Topic4\", \"Topic4\", \"Topic4\", \"Topic4\", \"Topic4\", \"Topic4\", \"Topic4\", \"Topic4\", \"Topic4\", \"Topic4\", \"Topic4\", \"Topic4\", \"Topic4\", \"Topic4\", \"Topic4\", \"Topic4\", \"Topic4\", \"Topic4\", \"Topic4\", \"Topic4\", \"Topic4\", \"Topic4\", \"Topic4\", \"Topic4\", \"Topic4\", \"Topic4\", \"Topic4\", \"Topic4\", \"Topic4\", \"Topic4\", \"Topic4\", \"Topic4\", \"Topic4\", \"Topic4\", \"Topic4\", \"Topic4\", \"Topic4\", \"Topic4\", \"Topic4\", \"Topic4\", \"Topic4\", \"Topic4\", \"Topic4\", \"Topic4\", \"Topic4\", \"Topic4\", \"Topic4\", \"Topic4\", \"Topic4\", \"Topic4\", \"Topic4\", \"Topic4\", \"Topic4\", \"Topic5\", \"Topic5\", \"Topic5\", \"Topic5\", \"Topic5\", \"Topic5\", \"Topic5\", \"Topic5\", \"Topic5\", \"Topic5\", \"Topic5\", \"Topic5\", \"Topic5\", \"Topic5\", \"Topic5\", \"Topic5\", \"Topic5\", \"Topic5\", \"Topic5\", \"Topic5\", \"Topic5\", \"Topic5\", \"Topic5\", \"Topic5\", \"Topic5\", \"Topic5\", \"Topic5\", \"Topic5\", \"Topic5\", \"Topic5\", \"Topic5\", \"Topic5\", \"Topic5\", \"Topic5\", \"Topic5\", \"Topic5\", \"Topic5\", \"Topic5\", \"Topic5\", \"Topic5\", \"Topic5\", \"Topic5\", \"Topic5\", \"Topic5\", \"Topic5\", \"Topic5\", \"Topic5\", \"Topic5\", \"Topic5\", \"Topic5\", \"Topic5\", \"Topic5\", \"Topic5\", \"Topic5\", \"Topic5\", \"Topic5\", \"Topic5\", \"Topic5\", \"Topic5\", \"Topic5\", \"Topic5\", \"Topic5\", \"Topic5\", \"Topic5\", \"Topic5\", \"Topic5\", \"Topic5\", \"Topic5\", \"Topic5\", \"Topic5\", \"Topic5\", \"Topic5\", \"Topic5\", \"Topic5\", \"Topic6\", \"Topic6\", \"Topic6\", \"Topic6\", \"Topic6\", \"Topic6\", \"Topic6\", \"Topic6\", \"Topic6\", \"Topic6\", \"Topic6\", \"Topic6\", \"Topic6\", \"Topic6\", \"Topic6\", \"Topic6\", \"Topic6\", \"Topic6\", \"Topic6\", \"Topic6\", \"Topic6\", \"Topic6\", \"Topic6\", \"Topic6\", \"Topic6\", \"Topic6\", \"Topic6\", \"Topic6\", \"Topic6\", \"Topic6\", \"Topic6\", \"Topic6\", \"Topic6\", \"Topic6\", \"Topic6\", \"Topic6\", \"Topic6\", \"Topic6\", \"Topic6\", \"Topic6\", \"Topic6\", \"Topic6\", \"Topic6\", \"Topic6\", \"Topic6\", \"Topic6\", \"Topic6\", \"Topic6\", \"Topic6\", \"Topic6\", \"Topic6\", \"Topic6\", \"Topic6\", \"Topic6\", \"Topic6\", \"Topic6\", \"Topic6\", \"Topic6\", \"Topic6\", \"Topic6\", \"Topic6\", \"Topic6\", \"Topic6\", \"Topic6\", \"Topic6\", \"Topic6\", \"Topic6\", \"Topic6\", \"Topic7\", \"Topic7\", \"Topic7\", \"Topic7\", \"Topic7\", \"Topic7\", \"Topic7\", \"Topic7\", \"Topic7\", \"Topic7\", \"Topic7\", \"Topic7\", \"Topic7\", \"Topic7\", \"Topic7\", \"Topic7\", \"Topic7\", \"Topic7\", \"Topic7\", \"Topic7\", \"Topic7\", \"Topic7\", \"Topic7\", \"Topic7\", \"Topic7\", \"Topic7\", \"Topic7\", \"Topic7\", \"Topic7\", \"Topic7\", \"Topic7\", \"Topic7\", \"Topic7\", \"Topic7\", \"Topic7\", \"Topic7\", \"Topic7\", \"Topic7\", \"Topic7\", \"Topic7\", \"Topic7\", \"Topic7\", \"Topic7\", \"Topic7\", \"Topic7\", \"Topic7\", \"Topic7\", \"Topic7\", \"Topic7\", \"Topic7\", \"Topic7\", \"Topic7\", \"Topic7\", \"Topic7\", \"Topic7\", \"Topic7\", \"Topic7\", \"Topic7\", \"Topic7\", \"Topic7\", \"Topic7\", \"Topic7\", \"Topic7\", \"Topic7\", \"Topic7\", \"Topic7\"], \"logprob\": [30.0, 29.0, 28.0, 27.0, 26.0, 25.0, 24.0, 23.0, 22.0, 21.0, 20.0, 19.0, 18.0, 17.0, 16.0, 15.0, 14.0, 13.0, 12.0, 11.0, 10.0, 9.0, 8.0, 7.0, 6.0, 5.0, 4.0, 3.0, 2.0, 1.0, -5.6048, -6.1491, -6.1677, -6.7633, -6.8318, -7.0036, -7.0089, -6.7784, -7.1087, -7.1831, -7.2326, -7.258, -7.4276, -5.7574, -7.4698, -7.4911, -7.7833, -7.79, -7.8218, -7.8266, -7.8332, -7.8505, -7.8714, -7.8801, -7.8843, -7.9295, -7.9632, -7.9905, -8.0228, -8.0348, -4.6616, -5.8276, -6.1121, -4.9371, -6.6514, -6.9173, -5.0777, -7.0543, -4.9776, -7.5619, -5.0698, -5.5676, -6.3291, -6.3358, -6.5564, -5.2516, -4.3394, -5.1781, -4.761, -6.5209, -5.5255, -4.9066, -6.641, -3.4877, -5.8307, -4.9014, -5.5998, -5.3983, -4.9145, -5.4944, -4.9629, -5.4044, -5.2997, -4.3641, -4.3284, -4.1844, -5.1317, -5.004, -5.1007, -4.9666, -5.1895, -5.2965, -5.469, -5.4469, -5.4775, -5.4927, -4.8233, -5.2469, -5.7999, -5.7673, -5.9196, -6.0485, -6.1435, -6.242, -6.2457, -6.5474, -6.5636, -6.5419, -5.5834, -6.9351, -6.9925, -7.1944, -7.3118, -7.358, -7.3608, -7.4685, -5.7213, -7.6121, -7.5456, -7.7051, -7.739, -6.1729, -7.8075, -7.8671, -7.8783, -7.8887, -5.298, -5.8799, -4.6063, -4.4247, -5.4788, -6.0513, -3.8112, -6.3072, -5.4395, -6.5855, -5.5211, -6.0833, -5.5085, -4.0365, -4.7478, -4.9972, -3.6062, -4.5467, -4.7717, -5.388, -5.3428, -4.9025, -3.8465, -5.4262, -4.9376, -4.29, -5.1142, -4.4176, -5.1185, -5.0952, -4.9329, -4.9971, -4.8744, -5.0446, -5.3975, -5.3997, -5.4128, -5.426, -3.7639, -5.6383, -6.5409, -6.7837, -6.8349, -5.7848, -7.0489, -7.3918, -6.6823, -7.6276, -7.6805, -7.7419, -7.7524, -7.7878, -7.7878, -7.8786, -7.9291, -7.9402, -7.9463, -7.9537, -7.9797, -8.0098, -8.0108, -8.0106, -8.0238, -8.0756, -7.3724, -8.1113, -8.1425, -8.1496, -6.3177, -6.0235, -7.625, -5.0622, -5.8929, -5.8743, -7.2863, -5.1391, -6.962, -7.0472, -4.1412, -7.3812, -5.8842, -4.8004, -5.3442, -5.1358, -6.8988, -6.6544, -4.3932, -7.0065, -5.078, -4.9419, -6.4326, -5.3255, -5.1249, -5.5517, -6.4173, -5.045, -3.8543, -5.0, -5.1584, -4.7503, -5.6817, -4.9569, -5.0332, -5.6035, -4.3726, -4.5793, -5.1804, -4.7358, -5.0909, -5.1536, -5.0504, -5.3053, -5.4416, -5.286, -5.3111, -5.2744, -5.7107, -5.8814, -6.1124, -6.7653, -6.7957, -7.1612, -7.2252, -5.3714, -7.4494, -7.5002, -7.5368, -7.5379, -7.6316, -6.569, -7.7254, -7.7715, -7.7664, -7.7769, -7.7818, -7.7808, -7.7891, -7.852, -7.852, -7.8808, -7.8816, -7.9069, -7.9312, -7.9568, -7.9634, -4.115, -5.0266, -5.3082, -6.864, -6.4742, -5.1139, -2.7424, -4.8807, -4.8342, -5.7309, -4.8381, -5.5672, -7.3837, -6.6212, -6.1479, -7.1342, -6.0876, -6.449, -5.6089, -5.9408, -6.494, -4.4078, -4.6963, -4.5775, -5.4243, -6.0614, -4.6495, -5.4595, -5.9802, -4.4733, -4.9534, -4.3105, -5.4291, -4.8711, -4.4877, -4.2346, -5.1077, -4.4196, -4.3431, -4.7743, -4.4892, -5.0253, -5.084, -5.07, -5.2601, -5.2181, -5.2713, -5.2936, -4.8153, -5.6355, -5.9206, -6.2923, -6.3311, -6.5549, -6.6286, -6.814, -5.7758, -7.1719, -7.1841, -7.2385, -7.5281, -7.5464, -7.5873, -7.6153, -7.5929, -7.7458, -7.7379, -7.753, -7.751, -7.7603, -7.8205, -7.8226, -7.8328, -7.4661, -7.9198, -7.9197, -7.945, -6.6919, -7.3477, -4.3515, -7.0061, -7.3109, -6.4346, -6.9166, -4.8305, -6.5937, -6.6967, -3.6384, -6.5972, -5.0522, -5.5948, -5.9162, -4.8281, -5.1495, -4.8737, -5.465, -5.7038, -4.8594, -4.5383, -5.4676, -5.3948, -5.8392, -5.9348, -6.1611, -5.1957, -4.9323, -4.8093, -5.4219, -4.6521, -5.8918, -4.0967, -4.3495, -4.4921, -5.4378, -5.3783, -5.0016, -4.9128, -5.1865, -5.3948, -4.9128, -5.4643, -5.3403, -4.9889, -5.0796, -5.3222, -5.6502, -5.6532, -5.7087, -5.7966, -5.8754, -5.911, -6.0239, -6.057, -6.1446, -6.2293, -6.2376, -6.264, -6.4011, -6.4855, -6.4935, -6.6085, -6.7191, -6.8568, -6.9199, -7.0135, -7.0253, -7.0303, -7.0837, -7.1618, -7.1808, -7.1845, -7.1862, -5.3457, -6.3088, -5.9887, -5.7926, -5.6453, -6.6458, -5.843, -6.2078, -5.4517, -4.9065, -5.7672, -3.855, -5.2427, -5.8179, -5.4337, -5.416, -5.5761, -4.7709, -4.8421, -3.7575, -5.0671, -5.0971, -4.9775, -5.3823, -5.2022, -4.7504, -4.9836, -4.5451, -4.745, -5.0783, -4.8962, -4.8067, -5.3619, -5.2151, -5.2465, -5.407, -5.5607, -5.5604, -3.4697, -4.2236, -5.0676, -6.0055, -6.0474, -6.1288, -6.1598, -6.2467, -6.3823, -6.5177, -6.5255, -6.5354, -6.5775, -6.6732, -6.686, -6.6976, -6.7113, -6.7467, -6.7708, -6.7733, -6.7759, -6.7758, -6.8357, -6.8837, -6.8931, -6.9178, -6.94, -6.9913, -6.9974, -7.0138, -4.836, -5.4472, -5.1138, -5.8863, -5.57, -4.6889, -4.7114, -5.3341, -5.005, -5.6632, -6.531, -4.5978, -3.8058, -5.1676, -5.6357, -5.035, -4.9418, -3.7539, -5.2782, -5.0075, -5.6897, -4.9913, -4.1347, -4.969, -5.0616, -5.0021, -4.6246, -5.3087, -5.1162, -4.7767, -4.9404, -4.9405, -5.0703, -5.0835, -5.1424, -5.2446], \"loglift\": [30.0, 29.0, 28.0, 27.0, 26.0, 25.0, 24.0, 23.0, 22.0, 21.0, 20.0, 19.0, 18.0, 17.0, 16.0, 15.0, 14.0, 13.0, 12.0, 11.0, 10.0, 9.0, 8.0, 7.0, 6.0, 5.0, 4.0, 3.0, 2.0, 1.0, 1.6451, 1.6435, 1.6435, 1.6403, 1.6398, 1.6384, 1.6384, 1.6381, 1.6375, 1.6367, 1.6361, 1.6358, 1.6337, 1.6334, 1.6332, 1.6329, 1.628, 1.6278, 1.6272, 1.6272, 1.627, 1.6265, 1.6262, 1.6261, 1.626, 1.625, 1.6242, 1.6236, 1.6228, 1.6225, 1.5853, 1.5818, 1.5848, 1.5456, 1.5812, 1.5919, 1.4942, 1.5912, 1.4743, 1.6104, 1.4404, 1.4742, 1.5231, 1.5181, 1.5344, 1.3826, 1.2496, 1.3364, 1.2567, 1.4777, 1.2427, 1.0414, 1.4983, 0.5257, 1.2381, 0.8771, 1.0978, 0.987, 0.739, 1.0107, 0.7113, 0.9175, 0.8168, 0.1424, 0.0819, -0.1891, 0.3304, 0.1349, 0.1923, -0.0514, 0.3172, 0.2957, 0.6914, 0.3844, 0.6213, 0.083, 1.6603, 1.6599, 1.6588, 1.6588, 1.6584, 1.658, 1.6577, 1.6573, 1.6573, 1.6558, 1.6557, 1.6555, 1.6542, 1.6529, 1.6526, 1.6507, 1.6494, 1.6488, 1.6487, 1.6471, 1.646, 1.6452, 1.6439, 1.6436, 1.6429, 1.642, 1.6417, 1.6405, 1.6403, 1.6401, 1.6395, 1.6364, 1.5601, 1.5211, 1.5387, 1.5434, 1.3791, 1.5516, 1.4836, 1.5511, 1.383, 1.4563, 1.3385, 0.988, 1.037, 1.0826, 0.3891, 0.7809, 0.8818, 1.1517, 1.103, 0.8632, 0.167, 1.0945, 0.74, 0.1204, 0.7739, 0.0889, 0.7128, 0.6833, 0.3613, 0.2959, 0.0408, 0.0944, 0.9591, 0.8731, 0.6318, 0.3179, 1.7889, 1.7866, 1.7827, 1.7809, 1.7805, 1.7792, 1.7784, 1.774, 1.7708, 1.77, 1.769, 1.7677, 1.7675, 1.7667, 1.7665, 1.7645, 1.7633, 1.763, 1.7628, 1.7626, 1.762, 1.7612, 1.7611, 1.7611, 1.7607, 1.7592, 1.7582, 1.7581, 1.7572, 1.7569, 1.7558, 1.7361, 1.7484, 1.6862, 1.7046, 1.6816, 1.7269, 1.5273, 1.6776, 1.6771, 1.3612, 1.703, 1.5182, 1.3744, 1.4476, 1.3398, 1.6261, 1.5659, 1.0689, 1.6208, 1.1274, 1.0662, 1.4499, 1.0598, 0.9767, 1.118, 1.4242, 0.7408, 0.1411, 0.6788, 0.715, 0.4239, 0.9751, 0.436, 0.4736, 0.9015, -0.3592, -0.1689, 0.3953, -0.2293, 0.2033, 0.283, -0.1352, 0.3941, 0.684, 0.1429, -0.1722, 1.919, 1.9179, 1.9173, 1.9164, 1.912, 1.9117, 1.9077, 1.9068, 1.9058, 1.9032, 1.9024, 1.9017, 1.9016, 1.8997, 1.8981, 1.8977, 1.8966, 1.8966, 1.8965, 1.8964, 1.8963, 1.8961, 1.8946, 1.8946, 1.8938, 1.8938, 1.8931, 1.8924, 1.8917, 1.8915, 1.8696, 1.8753, 1.8756, 1.8807, 1.871, 1.838, 1.7751, 1.824, 1.8153, 1.8363, 1.8047, 1.8141, 1.8832, 1.8512, 1.8259, 1.8726, 1.7976, 1.816, 1.7422, 1.7639, 1.8052, 1.5684, 1.5952, 1.5643, 1.6225, 1.7317, 1.4418, 1.5813, 1.6901, 1.2043, 1.3102, 1.017, 1.4426, 0.8946, 0.5367, 0.1757, 0.8403, 0.0869, -0.3477, 0.1409, -0.4758, 0.5504, 0.3526, 0.223, 0.4838, 0.1748, 0.2311, 0.5209, 1.9516, 1.9498, 1.9488, 1.947, 1.9467, 1.9451, 1.9446, 1.9428, 1.9415, 1.9386, 1.9384, 1.9376, 1.9324, 1.9321, 1.9312, 1.9306, 1.9301, 1.9275, 1.9275, 1.9274, 1.9274, 1.9272, 1.9256, 1.9255, 1.9253, 1.9249, 1.9228, 1.9228, 1.9221, 1.9215, 1.9166, 1.8171, 1.8816, 1.8972, 1.8354, 1.8642, 1.6961, 1.8356, 1.8377, 1.5358, 1.8051, 1.6277, 1.6761, 1.7014, 1.4947, 1.5034, 1.4493, 1.5528, 1.5947, 1.4103, 1.3351, 1.5103, 1.3877, 1.5268, 1.556, 1.6146, 1.1303, 0.9558, 0.8695, 1.1958, 0.7408, 1.4121, -0.1013, 0.0609, 0.0144, 0.9928, 0.8429, 0.2927, 0.0023, 0.3892, 0.7068, -0.8994, 0.8257, -0.2014, 2.2939, 2.2937, 2.293, 2.2918, 2.2917, 2.2915, 2.2911, 2.2907, 2.2905, 2.2898, 2.2896, 2.289, 2.2884, 2.2883, 2.2881, 2.2869, 2.2861, 2.286, 2.2848, 2.2835, 2.2816, 2.2807, 2.2792, 2.279, 2.2789, 2.278, 2.2766, 2.2762, 2.2761, 2.2761, 2.2691, 2.2486, 2.235, 2.1661, 2.1514, 2.2337, 2.122, 2.1655, 2.0045, 1.8743, 2.0508, 1.5739, 1.9139, 2.0443, 1.8811, 1.8551, 1.8251, 1.1958, 1.2224, 0.2559, 1.1691, 1.1609, 0.8371, 1.3787, 1.0859, 0.3885, 0.5231, -0.5498, -0.2386, 0.5138, 0.019, -0.3963, 1.062, 0.4637, 0.5384, 1.0637, 0.7631, 0.679, 2.7872, 2.7863, 2.784, 2.7778, 2.7773, 2.7764, 2.7756, 2.775, 2.7731, 2.771, 2.7708, 2.7707, 2.7699, 2.7682, 2.7679, 2.7676, 2.7674, 2.7666, 2.7661, 2.7661, 2.766, 2.766, 2.7646, 2.7636, 2.7633, 2.7627, 2.7621, 2.7608, 2.7607, 2.7602, 2.7525, 2.753, 2.6631, 2.7018, 2.6742, 2.5956, 2.5701, 2.5118, 2.3415, 2.4019, 2.6762, 1.7589, 1.3845, 1.7075, 2.0263, 1.5149, 1.3463, 0.2414, 1.4811, 1.1343, 1.816, 0.9849, -0.1213, 0.8433, 0.9052, 0.7828, -0.1181, 1.162, 0.7093, -0.3663, 0.084, -0.0253, 0.3663, 0.2095, 0.2865, -0.1056]}, \"token.table\": {\"Topic\": [1, 4, 1, 2, 3, 4, 5, 6, 7, 1, 2, 3, 4, 5, 6, 5, 2, 4, 3, 1, 6, 4, 3, 6, 7, 1, 2, 3, 4, 5, 6, 7, 3, 3, 1, 3, 4, 5, 6, 3, 4, 5, 3, 1, 3, 6, 2, 3, 5, 1, 2, 4, 5, 6, 7, 2, 1, 2, 3, 5, 7, 2, 1, 4, 2, 2, 7, 2, 7, 3, 1, 3, 4, 6, 3, 1, 3, 4, 5, 6, 2, 3, 4, 1, 2, 5, 3, 5, 7, 2, 3, 7, 1, 2, 3, 4, 5, 6, 7, 7, 3, 4, 5, 7, 4, 2, 3, 4, 2, 4, 4, 1, 2, 3, 4, 5, 6, 1, 2, 7, 1, 2, 7, 1, 2, 3, 4, 5, 7, 5, 1, 2, 3, 4, 5, 2, 4, 7, 1, 2, 3, 4, 6, 7, 7, 1, 2, 3, 4, 5, 6, 7, 4, 1, 2, 3, 4, 7, 5, 6, 1, 2, 3, 1, 3, 6, 3, 1, 3, 4, 5, 4, 4, 6, 7, 2, 3, 4, 5, 5, 5, 7, 2, 3, 5, 1, 1, 2, 3, 5, 7, 2, 1, 5, 1, 4, 5, 1, 3, 5, 1, 2, 4, 5, 1, 1, 1, 2, 3, 4, 5, 6, 1, 1, 2, 3, 4, 5, 1, 3, 6, 6, 3, 4, 5, 4, 4, 4, 2, 2, 3, 4, 5, 6, 1, 2, 3, 4, 5, 6, 7, 1, 2, 3, 4, 5, 6, 2, 4, 6, 7, 2, 2, 4, 6, 7, 1, 2, 4, 7, 3, 5, 1, 6, 3, 5, 1, 3, 5, 6, 7, 1, 3, 5, 2, 5, 7, 5, 1, 3, 5, 6, 6, 1, 2, 3, 4, 5, 6, 3, 2, 3, 5, 6, 7, 2, 7, 1, 2, 3, 5, 1, 2, 3, 4, 5, 6, 7, 3, 2, 1, 2, 3, 4, 5, 6, 7, 2, 1, 2, 3, 5, 1, 3, 5, 6, 1, 2, 4, 7, 1, 2, 3, 4, 5, 6, 1, 3, 4, 1, 2, 3, 4, 7, 1, 2, 3, 4, 6, 7, 2, 5, 7, 1, 2, 3, 4, 5, 6, 7, 2, 3, 5, 4, 1, 5, 1, 6, 1, 2, 3, 4, 5, 6, 7, 1, 6, 1, 2, 3, 4, 5, 6, 7, 1, 7, 7, 3, 1, 2, 3, 4, 5, 6, 7, 2, 1, 3, 1, 2, 3, 5, 6, 1, 4, 4, 2, 6, 4, 3, 2, 4, 7, 1, 2, 3, 4, 5, 6, 7, 1, 2, 3, 4, 5, 7, 7, 2, 6, 1, 4, 6, 3, 1, 2, 3, 5, 6, 7, 7, 4, 7, 6, 7, 1, 2, 3, 4, 5, 6, 7, 4, 5, 6, 2, 6, 7, 6, 3, 1, 2, 4, 6, 2, 2, 7, 2, 1, 3, 4, 6, 1, 2, 3, 4, 5, 6, 7, 1, 3, 5, 6, 6, 1, 3, 4, 5, 6, 3, 4, 1, 2, 3, 4, 5, 4, 6, 1, 2, 3, 4, 5, 6, 7, 6, 1, 3, 5, 1, 5, 5, 3, 5, 7, 5, 1, 2, 3, 4, 5, 6, 7, 1, 1, 2, 3, 5, 6, 4, 1, 2, 3, 4, 5, 1, 3, 1, 1, 2, 3, 4, 5, 6, 7, 1, 3, 5, 6, 7, 5, 1, 4, 5, 4, 5, 7, 6, 5, 2, 1, 2, 3, 4, 5, 6, 7, 6, 1, 3, 4, 5, 6, 2, 3, 4, 2, 3, 4, 5, 6, 6, 6, 2, 4, 7, 1, 5, 6, 2, 5, 1, 2, 3, 4, 5, 7, 4, 2, 6, 2, 2, 4, 6, 1, 2, 3, 4, 5, 6, 7, 1, 2, 3, 4, 5, 6, 7, 1, 4, 1, 4, 4, 1, 3, 6, 1, 2, 3, 4, 5, 6, 7, 1, 7, 1, 2, 3, 4, 7, 3, 5, 1, 2, 3, 4, 5, 6, 7, 7, 3, 2, 2, 4, 1, 6, 1, 2, 3, 4, 5, 1, 2, 3, 4, 5, 6, 7, 1, 2, 3, 4, 5, 6, 7, 2, 7, 7, 7, 2, 7, 2, 6, 1, 4, 1, 2, 3, 4, 5, 6, 7, 5, 6, 1, 2, 3, 4, 5, 6, 7, 6, 4, 4, 2, 7, 2, 6, 2, 4, 1, 5, 1, 2, 3, 6, 1, 2, 3, 4, 5, 6, 7, 2, 3, 4, 5, 6, 7, 1, 3, 4, 5, 1, 2, 3, 4, 5, 6, 7, 1, 5, 7, 5, 1, 2, 5, 6, 7, 1, 2, 3, 4, 5, 3, 1, 2, 3, 4, 5, 6, 7, 1, 2, 3, 4, 5, 6, 7, 1, 2, 3, 4, 5, 6, 7, 3, 4, 5, 2, 5, 1, 2, 3, 4, 5, 6, 7, 1, 3, 5, 1, 3, 5, 6, 1, 1, 2, 3, 4, 5, 6, 7, 4, 5, 1, 2, 3, 4, 6, 1, 2, 7, 3, 1, 2, 3, 4, 5, 6, 7, 6, 3, 4, 5, 6, 1, 1, 2, 5, 5, 3, 1, 3, 6, 3, 5, 6, 3, 5, 3, 6, 2, 7, 2, 7, 7, 1, 3, 4, 5, 6, 2, 4, 4, 1, 3, 4, 5, 6, 1, 2, 3, 7, 1, 3, 7, 5, 5, 3, 7, 6, 7, 3, 4, 2, 3, 3, 1, 2, 3, 4, 5, 6, 5, 1, 5, 7, 3, 3, 4, 1, 2, 3, 5, 6, 7, 1, 4, 7, 1, 3, 7, 2, 6, 2, 3, 4, 7, 1, 2, 3, 4, 5, 6, 7, 1, 1, 2, 1, 3, 5, 2, 7, 2, 4, 6, 1, 2, 3, 4, 5, 6, 3, 6, 2, 1, 4, 6, 2, 7, 1, 2, 3, 4, 6, 7, 1, 1, 1, 1, 3, 4, 6, 5, 1, 2, 3, 4, 5, 6, 3, 1, 2, 3, 4, 5, 6, 7, 4, 4, 3, 4, 1, 3, 4, 5, 7, 1, 2, 3, 4, 5, 7, 1, 2, 3, 4, 5, 6, 7, 2, 3, 4, 5, 1, 2, 3, 5, 4, 5, 4, 1, 2, 3, 4, 5, 2, 6, 2, 3, 1, 2, 3, 4, 5, 6, 4, 6, 1, 1, 2, 3, 4, 5, 6, 7, 1, 1, 1, 4, 1, 1, 4, 6, 6, 6, 2, 3, 5, 6, 4, 1, 3, 4, 7, 1, 1, 2, 3, 4, 6, 7, 7, 2, 2, 3, 7, 1, 2, 3, 5, 6, 7, 7, 1, 2, 3, 4, 5, 6, 7, 1, 2, 3, 4, 5, 6, 7, 5, 1, 2, 4, 3, 4, 2, 3, 5, 6, 7, 2, 2, 2, 1, 2, 3, 4, 2, 7, 1, 2, 3, 4, 6, 3, 4, 1, 2, 3, 4, 5, 5, 6, 1, 3, 4, 5, 4, 1, 2, 4, 6, 1, 4, 5], \"Freq\": [0.8912478739999518, 0.10283629315384059, 0.3921232787158894, 0.18535624563325193, 0.10277177975705058, 0.07585536124925162, 0.14436988108728535, 0.09298399120876005, 0.006117367842681582, 0.5293384123119957, 0.011232645354100705, 0.3791017807008988, 0.004212242007787764, 0.05756730743976612, 0.019657129369676233, 0.9721394651877414, 0.04152059768148178, 0.954973746674081, 0.9915564152659277, 0.13284051089474527, 0.8634633208158443, 0.984410778125094, 0.9168074385477754, 0.01674534134333836, 0.06279503003751885, 0.1593392176898886, 0.28021330904632985, 0.19243977150798866, 0.10341069572137469, 0.1281790411645737, 0.05809717894280322, 0.07829993075591947, 0.9776627419032384, 0.9573307273293606, 0.1287157362293647, 0.15913945570175997, 0.019892431962719996, 0.6318772505805175, 0.060847438944790576, 0.2922731418182531, 0.05314057123968238, 0.6542932833885893, 0.9690769501820486, 0.5770845582491777, 0.36769989552159993, 0.05447405859579258, 0.028087764266697908, 0.11235105706679163, 0.8613581041787358, 0.26900362476770406, 0.12206887174332791, 0.00791187131669718, 0.06555550519549092, 0.29839057537257935, 0.23622587216995863, 0.9976981526670691, 0.1889954431540418, 0.260602412299362, 0.06456366070479688, 0.4390328927926188, 0.04695538960348864, 0.9991647404235436, 0.10957984143187373, 0.8895304775057985, 0.9980641750327169, 0.9765841420219642, 0.0231600982297699, 0.9844096319733703, 0.013302832864505005, 0.9566395059444787, 0.8764326390794619, 0.021640312076036096, 0.03246046811405414, 0.06492093622810828, 0.9870129060246166, 0.4816875010335827, 0.2864403828961839, 0.1215910196783801, 0.08534754265886295, 0.02338288839968848, 0.03073228883876567, 0.04609843325814851, 0.9197735016744869, 0.42743209912286095, 0.5716738910869225, 0.9762104446712078, 0.9626626693831559, 0.9881472824715205, 0.9979257149030994, 0.17397933813182548, 0.018313614540192154, 0.8027467706784228, 0.11387918780522, 0.1979328740424062, 0.09309171701537824, 0.0994183385601127, 0.1536465232292651, 0.34163756341566, 0.0009038030778192063, 0.9914327749921075, 0.9575618372830607, 0.9927166035016142, 0.972604322797616, 0.9888572383886826, 0.960119694461581, 0.059999656167758035, 0.030856966029132703, 0.9068519460784, 0.019976918220797498, 0.9788689928190775, 0.9602710266386925, 0.11044236460326327, 0.0788874032880452, 0.022088472920652653, 0.1262198452608723, 0.0031554961315218076, 0.6594986914880578, 0.03805366452869001, 0.8969792353191216, 0.0652348534777543, 0.8637029195587878, 0.08637029195587878, 0.05038267030759595, 0.011848939479441238, 0.07006329431321776, 0.6516916713692681, 0.18443131885391145, 0.081912233792659, 0.9655002666712099, 0.9944792765368766, 0.2834086812277556, 0.16620237916068378, 0.33144405092737517, 0.06532810279148264, 0.1537131830387827, 0.7575462623225306, 0.22391560792406293, 0.01674135386348134, 0.0836012262883194, 0.054522538883686564, 0.06906188258600299, 0.02544385147905373, 0.7487762006692955, 0.018174179627895522, 0.9656104046176236, 0.18298822983516416, 0.19787929079201633, 0.1460469439998963, 0.16866990199203707, 0.14232417876068323, 0.10251922735678994, 0.06013697694113376, 0.9608541326230983, 0.02279888254993397, 0.24753072482785451, 0.013027932885676554, 0.07491061409264019, 0.6383687113981511, 0.9279464899868992, 0.06084895016307536, 0.841480807244321, 0.033286424337196245, 0.12515695550785788, 0.21119210110286327, 0.7688712430776116, 0.01814932118852731, 0.9969815573290378, 0.8586677225188964, 0.0780607020471724, 0.04653618775889124, 0.016512840817671084, 0.9762396024499863, 0.21398275676611078, 0.7828637442662589, 0.9842695761263174, 0.10931740041746053, 0.017049502817402102, 0.0010029119304354177, 0.8725333794788135, 0.9695334919524806, 0.9710246150778621, 0.9876296739231234, 0.08675567379757872, 0.24150903786893538, 0.6705979109758787, 0.9872269192123223, 0.23532426289703215, 0.12044155187643378, 0.0741178780778054, 0.5688547142471564, 0.9747095079381419, 0.9818975779418843, 0.93873522320662, 0.055491737332411036, 0.03377702592496171, 0.8866469305302448, 0.06755405184992341, 0.812917422175385, 0.17500305616275647, 0.011290519752435902, 0.9913134506800799, 0.053957532268049904, 0.8970439739563296, 0.04721284073454366, 0.9707156739236148, 0.992726884359808, 0.13361699635366886, 0.08945544671135458, 0.22194009563829745, 0.12682291179331284, 0.3238513640436381, 0.10304361583206667, 0.9973157381944453, 0.0684917111427037, 0.06464386220210237, 0.002501101811390866, 0.8642268720590591, 0.9874808811831746, 0.9393249839618204, 0.04772551881561212, 0.01193137970390303, 0.9727098927908527, 0.08547398810684051, 0.021368497026710127, 0.8867926266084702, 0.9977617792889945, 0.9678444655524419, 0.9923814143406657, 0.9979452335404727, 0.15831838924209699, 0.009312846426005706, 0.12106700353807417, 0.698463481950428, 0.009312846426005706, 0.009902774861115925, 0.5098331831722908, 0.07954164323928598, 0.2504443706811253, 0.0424860985976909, 0.04056943249553943, 0.06708331357530142, 0.002455357640069319, 0.3977679376912297, 0.06629465628187162, 0.4886161703737945, 0.04296875870121308, 0.0018415182300519893, 0.9037198335976055, 0.07205739536990874, 0.0030023914737461977, 0.021016740316223383, 0.9906437165404326, 0.8360434134713598, 0.14716070288143834, 0.012796582859255508, 0.002132763809875918, 0.037499185813640055, 0.4091822922606018, 0.5426352770679679, 0.009926255068316486, 0.8902119029247341, 0.09495593631197163, 0.9809693151795474, 0.9761256265596414, 0.9996194020294895, 0.981592956142028, 0.08162874855951191, 0.2552753591315645, 0.6589666247349688, 0.0014841590647183983, 0.002597278363257197, 0.008031462490337444, 0.8995237989177938, 0.0923618186388806, 0.02216814008612115, 0.9753981637893305, 0.9984957148311218, 0.9884137428057679, 0.00936386054882896, 0.23097522687111435, 0.5836806408770052, 0.1747920635781406, 0.9917432902946305, 0.03205849270091511, 0.01068616423363837, 0.694600675186494, 0.1335770529204796, 0.04274465693455348, 0.08548931386910696, 0.9777971777941742, 0.8692487073908551, 0.00481578231241471, 0.0032105215416098065, 0.10915773241473342, 0.013644716551841678, 0.9931732667200676, 0.005842195686588633, 0.017215580784282453, 0.18650212516305992, 0.022954107712376604, 0.7732665035606868, 0.005017040788336949, 0.10368550962563029, 0.08027265261339118, 0.011706428506119549, 0.7224538735205207, 0.0702385710367173, 0.00836173464722825, 0.9731640212123618, 0.9943782631372025, 0.05848354620355013, 0.17889084721085924, 0.034402086002088314, 0.027521668801670653, 0.04816292040292364, 0.6226777566377985, 0.02408146020146182, 0.9888983497446336, 0.7668705008016897, 0.007988234383350935, 0.1869246845704119, 0.0367458781634143, 0.05855703224973502, 0.7612414192465552, 0.17567109674920506, 0.9970496205215781, 0.04065984251866383, 0.47572015746836677, 0.1443424409412566, 0.33950968503084294, 0.15303540813930222, 0.0014039945700853413, 0.411370409035005, 0.09266364162563252, 0.3355547022503966, 0.005615978280341365, 0.5453838457846834, 0.11502933620532406, 0.3394572019485787, 0.060467226613206644, 0.14054544564150734, 0.4428815787075405, 0.3529978634716928, 0.001634249367924504, 0.1596791115842104, 0.19588542176900228, 0.017638971628488355, 0.6192207408527228, 0.00278510078344553, 0.004641834639075883, 0.05467440496148484, 0.9157962831048712, 0.01366860124037121, 0.16207744751643474, 0.17944288832176705, 0.22189174362369044, 0.20838528966398753, 0.11480485865747461, 0.024601041140887417, 0.08875669744947617, 0.031216916514704134, 0.7960313711249554, 0.16388881170219669, 0.9860161900338016, 0.023125963807629043, 0.9712904799204197, 0.9737596497632771, 0.9887489516327863, 0.26439935962891736, 0.18730443871950703, 0.2685386842415032, 0.0217314542160754, 0.060020206882493966, 0.16971230911601742, 0.028457856711527313, 0.9480245510183687, 0.052089261044965314, 0.08414555080266924, 0.5676259189739383, 0.021392936644746417, 0.015688153539480706, 0.028523915526328558, 0.2510104566316913, 0.03280250285527784, 0.03059380540710375, 0.9637048703237682, 0.9892061283824138, 0.9695897664895199, 0.22207703134070905, 0.20742413381437264, 0.13282756458938724, 0.15965949382592537, 0.14386481207675755, 0.07935400348678293, 0.05461534532543574, 0.9822561171332362, 0.9704845637300412, 0.020218428411042526, 0.6637301949241562, 0.24673984941418448, 0.032076180423843983, 0.05428276687112058, 0.9984640126154901, 0.9902479729401213, 0.9713829013756421, 0.9723779696954844, 0.9934464772043915, 0.9773228384315719, 0.979269916789255, 0.996309591692081, 0.8138278723891946, 0.11851862219260116, 0.06716055257580733, 0.044119255361877135, 0.4143749670262578, 0.03287317066179081, 0.40485904920310783, 0.053202631465793015, 0.017734210488597673, 0.03287317066179081, 0.03619679505832271, 0.45044900517023817, 0.0750748341950397, 0.3579460844656357, 0.07172327909704686, 0.008714043254781393, 0.9899277331910845, 0.025557941759506323, 0.975461443821158, 0.9799622782083386, 0.04526179037366593, 0.9354103343890958, 0.9863045048117766, 0.11314156872766688, 0.072733865610643, 0.11044772185319862, 0.018856928121277813, 0.6815432592404695, 0.0026938468744682593, 0.9806416805124375, 0.990480659259466, 0.9940861775988996, 0.9992796788469048, 0.9616702666912796, 0.1703436547926412, 0.03589886939844918, 0.17245535299255, 0.24636478998935715, 0.13655648359410083, 0.23228680198996532, 0.004927295799787143, 0.106627046549356, 0.8858246944100344, 0.9875876916828882, 0.02349081902514963, 0.9396327610059851, 0.03132109203353284, 0.9774717045891409, 0.9684498492531293, 0.060913577741034015, 0.45216617323152175, 0.27059685496497804, 0.21554035200673574, 0.9915023900135732, 0.7540831046815215, 0.24583109212617602, 0.991942824521246, 0.8440702855022864, 0.037514234911212724, 0.025009489940808483, 0.08753321479282969, 0.22047977818521006, 0.1540899565011877, 0.01885143084854956, 0.05819354740204429, 0.06311131197123114, 0.3327687358483096, 0.1524507016447921, 0.677066129402562, 0.2121761373669175, 0.06727536062853481, 0.043987735795580456, 0.9896950366454981, 0.16838901580281102, 0.32940333018360113, 0.00368735071101046, 0.33862170696112726, 0.15978519747711994, 0.060248729186937466, 0.9338553023975307, 0.12568066530175365, 0.10035694915886298, 0.44363399020693634, 0.04220619357148443, 0.2879400316987938, 0.15718597949104673, 0.840340428817519, 0.28273084651911445, 0.38723389358693905, 0.055114620713852695, 0.06084081507373349, 0.14029176181707959, 0.07014588090853979, 0.0028630971799403996, 0.9949287719579877, 0.010582906627483792, 0.8466325301987033, 0.1375777861572893, 0.23857810916975183, 0.7580139924254141, 0.9909677066600161, 0.9743431854244959, 0.9979047976262146, 0.9756095642337641, 0.9689585800086871, 0.38397825529892093, 0.10047099426215289, 0.052722402929644585, 0.18801007837175146, 0.10643956817871643, 0.08952860874845307, 0.077591460915326, 0.9922278129860356, 0.3642009702249564, 0.028142802244655724, 0.5115368172705069, 0.03807555597806363, 0.057941063444879426, 0.9845820945724435, 0.6718840214398991, 0.024718141256986258, 0.06348068095544197, 0.12920846566151906, 0.11066985971877938, 0.04923021149649544, 0.950143081882362, 0.9936726472523644, 0.43605253493055135, 0.1542369228356972, 0.0685497434825321, 0.0161853561000423, 0.15138068352392503, 0.16090148122983225, 0.012377037017679405, 0.19320506501114026, 0.026834036807102814, 0.016100422084261688, 0.005366807361420563, 0.7567198379602994, 0.9601201745160779, 0.9933960613163241, 0.2178507284559893, 0.7774280897841187, 0.8527559606778148, 0.05591842365100425, 0.08853750411409006, 0.9710992993760905, 0.9919521348695894, 0.996361371042741, 0.11871643981475492, 0.26104498920592517, 0.11806054788207672, 0.23743287962950985, 0.07345989645995885, 0.1154369801513639, 0.07477168032531525, 0.9966632192185501, 0.10767408467157094, 0.27269632313560904, 0.0011703704855605538, 0.6039111705492457, 0.014044445826726645, 0.1341608959596043, 0.029449952771620456, 0.8376875455038707, 0.13041591974112512, 0.13041591974112512, 0.7223907902182322, 0.017010772140146756, 0.9896068990333968, 0.9938846052131021, 0.9966170026227931, 0.13156359420665775, 0.7024999464242291, 0.16466135375550248, 0.840615020696518, 0.15851597533134337, 0.9955589074214233, 0.9718695160421891, 0.9812472894387216, 0.1189507338822981, 0.4114028566757189, 0.07803774261067965, 0.016668255703251963, 0.36897456943107754, 0.00530353590558017, 0.9695169193225032, 0.9780115358109439, 0.01947368102278428, 0.9938506420370699, 0.8892495099285265, 0.07932272623775588, 0.03339904262642353, 0.22271978565283335, 0.21770074822967092, 0.24781497276864556, 0.11731999976642207, 0.10665454524220189, 0.06336534746742582, 0.02509518711581221, 0.11393596976925568, 0.30426082836108054, 0.07379943496417699, 0.07379943496417699, 0.06862052724739263, 0.29131355906911965, 0.07379943496417699, 0.2558499930387759, 0.7409995081406057, 0.04421087406578096, 0.9549548798208687, 0.9907786914734327, 0.9757877055596919, 0.9753979658537312, 0.9943000707003077, 0.22028103871731103, 0.20881926109299564, 0.14076495644862314, 0.11067779018479529, 0.11605049844619313, 0.1482867480145801, 0.05551798536777757, 0.9798098617549521, 0.9865786846185043, 0.0029370008493725176, 0.15712954544142968, 0.2378970687991739, 0.32160159300629065, 0.28048358111507543, 0.9312704822870332, 0.05173724901594629, 0.13023357891208498, 0.4541478649241938, 0.10797142867070293, 0.11465007374311754, 0.014470397656898332, 0.12355493383967037, 0.05454226809138602, 0.9843638444002545, 0.995190033058768, 0.9793293102682741, 0.9724359201908197, 0.9848746036812891, 0.9850008600841003, 0.9979162554553475, 0.006758946074250016, 0.02478280227225006, 0.2478280227225006, 0.07660138884150018, 0.6420998770537516, 0.24690993711605336, 0.15737116871133072, 0.004069944018396484, 0.037986144171700514, 0.06647575230047591, 0.2916793213184147, 0.19671396088916338, 0.061268840544429076, 0.1120070991202844, 0.1929011151516009, 0.03733569970676147, 0.02919843182195448, 0.48584275900465246, 0.08185134166482322, 0.9944397948470745, 0.9991711148177578, 0.9855104952172488, 0.9908042170793303, 0.11521491509088473, 0.8816445676519875, 0.12014945890498685, 0.877091050006404, 0.026369381975740278, 0.9624824421145202, 0.11954837141078674, 0.0701935391769757, 0.14477417455251237, 0.22593545422589054, 0.11296772711294527, 0.32135479654459187, 0.004387096198560981, 0.21821455527753317, 0.780117035117181, 0.1079330368301853, 0.27234266269942103, 0.20457075585256052, 0.13972726473365074, 0.1899286772128067, 0.06568018132689571, 0.019662219887669415, 0.9920491528764854, 0.9982861707702257, 0.9695177834006878, 0.03319333361260354, 0.9667558414670783, 0.9781472456758754, 0.01560873264376397, 0.09895959849135826, 0.9003701174213743, 0.04191278299614251, 0.9430376174132065, 0.09968403884021736, 0.13291205178695648, 0.1238498664378458, 0.6434151597868575, 0.0891126349044104, 0.14267256054643945, 0.2585651582718644, 0.17453148183350847, 0.29734993201264404, 0.03693787975312349, 0.0009234469938280871, 0.08982392735021345, 0.6600544773824674, 0.14937012638013022, 0.045416592480445, 0.0030277728320296667, 0.05147213814450434, 0.3649432127799777, 0.15770760266563322, 0.09384254042913713, 0.3831903734189766, 0.24090221478799223, 0.1538122012786306, 0.08147130296037054, 0.19244083630294423, 0.11939759916606028, 0.06953154304376452, 0.14327711899927234, 0.9821309346572976, 0.1714231467135882, 0.8234433297492003, 0.9941761796721048, 0.00628636352121611, 0.4966227181760727, 0.46833408233060014, 0.022002272324256382, 0.004714772640912082, 0.11104937936969456, 0.5607534776436642, 0.04680593675912746, 0.04038159249807075, 0.240454028056694, 0.9843185560119491, 0.3207801070555133, 0.04305773249067293, 0.32831521024138105, 0.046287062427473394, 0.046287062427473394, 0.19806556945709547, 0.016146649684002347, 0.2586648370922894, 0.17300676467828507, 0.1634265855267188, 0.09129347191492568, 0.12454232897036156, 0.168498445077548, 0.02085097815340895, 0.35824158882078466, 0.08605280984729032, 0.26002914279942074, 0.05518604109771879, 0.13656206780113464, 0.09447101950626437, 0.009353566287748947, 0.03426902020826698, 0.9595325658314753, 0.981124652193121, 0.9956080301261628, 0.9718377364702783, 0.0688064920558198, 0.11769531535863914, 0.10683113240245706, 0.2716045739045519, 0.14304507558973065, 0.01991766875300047, 0.2697938767451882, 0.2319244373048039, 0.7107361788373022, 0.05611075096083965, 0.7327629829541917, 0.16582837331845343, 0.0651974801081099, 0.03543341310223364, 0.98759240178129, 0.19933616417412192, 0.35703321849853836, 0.061129757013397394, 0.1311188991012002, 0.08770791223661364, 0.07353289611756497, 0.08947978925149473, 0.9772891889427915, 0.9880450212694215, 0.025453991978365034, 0.010181596791346014, 0.08654357272644111, 0.8298001384947001, 0.04581718556105706, 0.035724329721242516, 0.49567507488223994, 0.4688818275913081, 0.9880849578109069, 0.2829223532922171, 0.06347616900786922, 0.07254419315185054, 0.06347616900786922, 0.09793466075499822, 0.39899306233517795, 0.021763257945555163, 0.9955567753230046, 0.13133870124213562, 0.07399363450261162, 0.1387380646923968, 0.6566935062106781, 0.9852314456457915, 0.9322329559184933, 0.05530195501211401, 0.9945129934041428, 0.9884713268176086, 0.9804051064996394, 0.038756063134619545, 0.8913894520962495, 0.05167475084615939, 0.7125945633550193, 0.1948500759173881, 0.08350717539316632, 0.9256984637957552, 0.0740558771036604, 0.9877856771611154, 0.9676140430529651, 0.07891198874520781, 0.9131244411945476, 0.10390070577528, 0.8951445420639509, 0.9923755965054694, 0.23328101136336657, 0.007525193914947308, 0.05267635740463116, 0.6735048553877842, 0.037625969574736545, 0.02222718132592337, 0.955768797014705, 0.9838385394480103, 0.6667968190379787, 0.05480521800312154, 0.11326411720645117, 0.1461472480083241, 0.018268406001040512, 0.02004704936822231, 0.04009409873644462, 0.26061164178689006, 0.6815996785195586, 0.5169303436285707, 0.48205311562471537, 0.9791330432201634, 0.9967339606518796, 0.9745914610204419, 0.9624959868731895, 0.9595218579832542, 0.8730586194752875, 0.11822668805394519, 0.9026152655265224, 0.09670877844927026, 0.026951878139421574, 0.9702676130191766, 0.9712681632761576, 0.2545580489154116, 0.007687994765901694, 0.48519789189246243, 0.19219986914754233, 0.05808707156459057, 0.0017084432813114874, 0.9677109534713415, 0.1057971533653247, 0.8848489190554429, 0.9939240307811112, 0.9647442165002101, 0.012156734451747184, 0.984695490591522, 0.15677921963541924, 0.10633720983967565, 0.6380232590380539, 0.006816487810235619, 0.05453190248188495, 0.038172331737319466, 0.988159475401866, 0.9907867123709299, 0.9617065223393619, 0.019392849237831487, 0.9696424618915744, 0.9748521184657172, 0.9873722454245072, 0.9958351064455999, 0.1044755554254141, 0.003905628240202396, 0.7000838620562796, 0.19137578376991743, 0.1552584462994656, 0.14636699342769005, 0.3501864515653145, 0.11422097150665532, 0.15936219377874664, 0.028726232354967206, 0.04514122227209132, 0.9952545831864916, 0.8857135647484213, 0.11341454182754176, 0.9948637078203194, 0.9919430392761327, 0.008097494198172512, 0.897114957256229, 0.10047687521269764, 0.12235474986029135, 0.7125364844805202, 0.16553877922274712, 0.11416040866839058, 0.011627449031039782, 0.3075988789120524, 0.23360602144179923, 0.3297967361531283, 0.0031711224630108495, 0.04373107218756989, 0.9511508200796451, 0.9896425528465459, 0.9365320717399567, 0.041623647632886965, 0.020811823816443482, 0.8837053215768937, 0.11485825134553791, 0.006052201419400258, 0.4950700761069411, 0.0012104402838800515, 0.08352037958772356, 0.05568025305848237, 0.3570798837446152, 0.9952939007407111, 0.9824744851459309, 0.9750331155862089, 0.9034779780011906, 0.03158053722496563, 0.021969069373889132, 0.043938138747778265, 0.9886205623595656, 0.26771122674361364, 0.0771958435711714, 0.48643278352859926, 0.06037110843386481, 0.04354637329655822, 0.06432986964264283, 0.9910384958653773, 0.028973116162284696, 0.07833472147580677, 0.20925028339427837, 0.20173873475961196, 0.15666944295161353, 0.3240696696670362, 0.0010730783763809146, 0.9627127645247142, 0.9928404357691925, 0.11163580076782521, 0.8819228260658192, 0.1897618612909592, 0.2163951049809184, 0.012206903357897961, 0.5814924872307756, 0.9913212998837442, 0.0724167305025243, 0.00895877078381744, 0.3411798540170475, 0.035088518903284974, 0.5390193754930159, 0.00223969269595436, 0.17576974762714415, 0.20352286567353534, 0.177192984450036, 0.1359191165861722, 0.061199183384349785, 0.12097512994580771, 0.12524484041448328, 0.19650696663506206, 0.08711133572482133, 0.6199085751580308, 0.09521471579224657, 0.2201512961267297, 0.05003438548334766, 0.015010315645004298, 0.7104882738635369, 0.009438050516475924, 0.9862762789717342, 0.9694960340562062, 0.46305759935872437, 0.376149428218084, 0.025800863307377606, 0.1310412267979968, 0.004073820522217516, 0.9868135859700837, 0.9775587075144783, 0.024723712381856007, 0.9642247828923842, 0.2089841280680438, 0.03381440798978958, 0.24834188162993004, 0.2538852272020267, 0.20953846262525347, 0.04545543369119255, 0.9088427214957394, 0.08539461812711646, 0.9779039306411603, 0.20898453470048275, 0.21417025516451457, 0.14105159662166578, 0.1745859222890716, 0.1507316081545252, 0.06776008073001591, 0.042695765153862066, 0.9948622037422805, 0.9875638556998375, 0.9432202267763042, 0.047757986165888826, 0.9966527679701899, 0.9873870201431727, 0.010214348484239718, 0.996948649591663, 0.9807330331427508, 0.9979238021049881, 0.07034207784929918, 0.8441049341915902, 0.011723679641549863, 0.05861839820774931, 0.9976125584261569, 0.03249086775731084, 0.004061358469663855, 0.9178670141440312, 0.044674943166302404, 0.9866567755771511, 0.006833290611087453, 0.5357299839092563, 0.021183200894371104, 0.12914919254955287, 0.17219892339940382, 0.13461582503842281, 0.9668198176120778, 0.9972942142079646, 0.02093922460277176, 0.08375689841108704, 0.9003866579191857, 0.18332640055151145, 0.25207380075832825, 0.13367550040214377, 0.04201230012638804, 0.007638600022979644, 0.37811070113749234, 0.9753562655591766, 0.3257812287148986, 0.22431600835524595, 0.11669081470915385, 0.09100488836381221, 0.05776427779925245, 0.1300567944816167, 0.054509952289435414, 0.23357204718752034, 0.25529967948403387, 0.1065489660694413, 0.1830135181898639, 0.09652082808643506, 0.04930501174978068, 0.07604671303779732, 0.9807429470585354, 0.40325165594864626, 0.4583766965835281, 0.13781260158720451, 0.9849685008519624, 0.009849685008519625, 0.7233887163791626, 0.08498829181503822, 0.031623550442804925, 0.005929415708025923, 0.154164808408674, 0.9988060482274712, 0.998355934749885, 0.9912876790544248, 0.33287850473404496, 0.6003442028609632, 0.011628943396822532, 0.05378386321030421, 0.9905373892406516, 0.9767309323755609, 0.026014282247957408, 0.12799026865995045, 0.516123359799475, 0.3298610989040999, 0.9738651467741889, 0.0979266333206825, 0.8976608054395896, 0.11393990661679482, 0.013021703613347979, 0.17579299878019772, 0.058597666260065906, 0.638063477054051, 0.9710200727829994, 0.9957094156528481, 0.12156071704269594, 0.009004497558718218, 0.7923957851672032, 0.07203598046974574, 0.9542803682926573, 0.03340590501029064, 0.00417573812628633, 0.9562440309195697, 0.0062636071894294956, 0.04255106840116078, 0.9494728596180582, 0.007509012070793079], \"Term\": [\"academic\", \"academic\", \"access\", \"access\", \"access\", \"access\", \"access\", \"access\", \"access\", \"accurate\", \"accurate\", \"accurate\", \"accurate\", \"accurate\", \"accurate\", \"ace\", \"ad\", \"ad\", \"administrator\", \"advice\", \"advice\", \"affiliate\", \"agent\", \"agent\", \"agent\", \"ai\", \"ai\", \"ai\", \"ai\", \"ai\", \"ai\", \"ai\", \"alignment\", \"alphactr\", \"analysis\", \"analysis\", \"analysis\", \"analysis\", \"analysis\", \"analytics\", \"analytics\", \"analytics\", \"anomaly\", \"answer\", \"answer\", \"answer\", \"apis\", \"apis\", \"apis\", \"app\", \"app\", \"app\", \"app\", \"app\", \"app\", \"appealing\", \"application\", \"application\", \"application\", \"application\", \"application\", \"art\", \"article\", \"article\", \"artist\", \"artistic\", \"artistic\", \"artwork\", \"artwork\", \"asinstant\", \"ask\", \"ask\", \"ask\", \"ask\", \"asked\", \"assistant\", \"assistant\", \"assistant\", \"assistant\", \"assistant\", \"audience\", \"audience\", \"audience\", \"audio\", \"audio\", \"audit\", \"autocomplete\", \"automaited\", \"avatar\", \"background\", \"background\", \"background\", \"based\", \"based\", \"based\", \"based\", \"based\", \"based\", \"based\", \"batch\", \"beamcast\", \"bedtime\", \"behavioral\", \"black\", \"blackbox\", \"blog\", \"blog\", \"blog\", \"blogger\", \"blogger\", \"blogging\", \"book\", \"book\", \"book\", \"book\", \"book\", \"book\", \"bring\", \"bring\", \"bring\", \"browser\", \"browser\", \"browser\", \"business\", \"business\", \"business\", \"business\", \"business\", \"camera\", \"candidate\", \"capability\", \"capability\", \"capability\", \"capability\", \"capability\", \"captivating\", \"captivating\", \"captivating\", \"card\", \"card\", \"card\", \"card\", \"card\", \"card\", \"cartoon\", \"case\", \"case\", \"case\", \"case\", \"case\", \"case\", \"case\", \"chapter\", \"character\", \"character\", \"character\", \"character\", \"character\", \"chart\", \"chart\", \"chat\", \"chat\", \"chat\", \"chatbot\", \"chatbot\", \"chatbot\", \"chatbots\", \"chatgpt\", \"chatgpt\", \"chatgpt\", \"chatgpt\", \"chess\", \"child\", \"child\", \"clothing\", \"code\", \"code\", \"code\", \"code\", \"codebase\", \"codebases\", \"codethreat\", \"coding\", \"coding\", \"coding\", \"cold\", \"collaboration\", \"collaboration\", \"collaboration\", \"collaboration\", \"colorization\", \"comic\", \"command\", \"command\", \"comment\", \"comment\", \"comment\", \"communication\", \"communication\", \"communication\", \"companionship\", \"compelling\", \"compelling\", \"compelling\", \"comprehend\", \"comprehension\", \"comprehensive\", \"comprehensive\", \"comprehensive\", \"comprehensive\", \"comprehensive\", \"comprehensive\", \"concise\", \"content\", \"content\", \"content\", \"content\", \"contract\", \"conversation\", \"conversation\", \"conversation\", \"cooking\", \"copilot\", \"copilot\", \"copilot\", \"copy\", \"copywriter\", \"copywriting\", \"course\", \"cover\", \"cover\", \"cover\", \"cover\", \"cover\", \"create\", \"create\", \"create\", \"create\", \"create\", \"create\", \"create\", \"creation\", \"creation\", \"creation\", \"creation\", \"creation\", \"creation\", \"creative\", \"creative\", \"creative\", \"creative\", \"creatives\", \"creativity\", \"creativity\", \"creativity\", \"creativity\", \"creator\", \"creator\", \"creator\", \"creator\", \"crm\", \"crm\", \"crypto\", \"culinary\", \"customer\", \"cv\", \"data\", \"data\", \"data\", \"data\", \"data\", \"database\", \"database\", \"database\", \"datasets\", \"datasets\", \"dating\", \"debugging\", \"decision\", \"decision\", \"decision\", \"decision\", \"deck\", \"deliver\", \"deliver\", \"deliver\", \"deliver\", \"deliver\", \"deliver\", \"describot\", \"design\", \"design\", \"design\", \"design\", \"design\", \"designer\", \"designer\", \"developer\", \"developer\", \"developer\", \"developer\", \"development\", \"development\", \"development\", \"development\", \"development\", \"development\", \"development\", \"devgpt\", \"diffusion\", \"discover\", \"discover\", \"discover\", \"discover\", \"discover\", \"discover\", \"discover\", \"divi\", \"document\", \"document\", \"document\", \"document\", \"documentation\", \"documentation\", \"documentation\", \"dream\", \"editing\", \"editing\", \"editing\", \"editing\", \"efficiency\", \"efficiency\", \"efficiency\", \"efficiency\", \"efficiency\", \"efficiency\", \"email\", \"email\", \"email\", \"engagement\", \"engagement\", \"engagement\", \"engagement\", \"engagement\", \"engaging\", \"engaging\", \"engaging\", \"engaging\", \"engaging\", \"engaging\", \"engineering\", \"engineering\", \"engineering\", \"enhance\", \"enhance\", \"enhance\", \"enhance\", \"enhance\", \"enhance\", \"enhance\", \"enterprise\", \"enterprise\", \"enterprise\", \"episode\", \"evaluation\", \"evaluation\", \"exam\", \"exercise\", \"experience\", \"experience\", \"experience\", \"experience\", \"experience\", \"experience\", \"experience\", \"explanation\", \"explanation\", \"explore\", \"explore\", \"explore\", \"explore\", \"explore\", \"explore\", \"explore\", \"face\", \"face\", \"facial\", \"factual\", \"feature\", \"feature\", \"feature\", \"feature\", \"feature\", \"feature\", \"feature\", \"figma\", \"figure\", \"figure\", \"file\", \"file\", \"file\", \"file\", \"fitness\", \"flashcard\", \"fluency\", \"follower\", \"font\", \"food\", \"foreign\", \"formula\", \"game\", \"game\", \"game\", \"generate\", \"generate\", \"generate\", \"generate\", \"generate\", \"generate\", \"generate\", \"generation\", \"generation\", \"generation\", \"generation\", \"generation\", \"generation\", \"genworlds\", \"gift\", \"gift\", \"gmail\", \"greeting\", \"greeting\", \"guest\", \"guidance\", \"guidance\", \"guidance\", \"guidance\", \"guidance\", \"guidance\", \"hairstyle\", \"headline\", \"headshot\", \"health\", \"hearing\", \"help\", \"help\", \"help\", \"help\", \"help\", \"help\", \"help\", \"hiring\", \"hiring\", \"holiday\", \"home\", \"home\", \"home\", \"homeowner\", \"hotel\", \"idea\", \"idea\", \"idea\", \"idea\", \"illustration\", \"image\", \"image\", \"imagination\", \"important\", \"important\", \"important\", \"important\", \"individual\", \"individual\", \"individual\", \"individual\", \"individual\", \"individual\", \"individual\", \"information\", \"information\", \"information\", \"information\", \"ingredient\", \"insight\", \"insight\", \"insight\", \"insight\", \"insight\", \"instagram\", \"instagram\", \"integration\", \"integration\", \"integration\", \"integration\", \"integration\", \"interest\", \"interest\", \"interface\", \"interface\", \"interface\", \"interface\", \"interface\", \"interface\", \"interface\", \"interior\", \"internal\", \"internal\", \"internal\", \"interview\", \"interview\", \"itinerary\", \"jira\", \"job\", \"journaling\", \"json\", \"key\", \"key\", \"key\", \"key\", \"key\", \"key\", \"key\", \"keyboard\", \"knowledge\", \"knowledge\", \"knowledge\", \"knowledge\", \"knowledge\", \"kotlibes\", \"language\", \"language\", \"language\", \"language\", \"language\", \"lead\", \"lead\", \"learner\", \"learning\", \"learning\", \"learning\", \"learning\", \"learning\", \"learning\", \"learning\", \"legal\", \"legal\", \"legal\", \"legal\", \"legal\", \"lego\", \"lengthy\", \"letter\", \"letter\", \"linkedin\", \"linkedin\", \"linkedin\", \"living\", \"llm\", \"logo\", \"looking\", \"looking\", \"looking\", \"looking\", \"looking\", \"looking\", \"looking\", \"loved\", \"management\", \"management\", \"management\", \"management\", \"management\", \"marketer\", \"marketer\", \"marketer\", \"marketing\", \"marketing\", \"marketing\", \"marketing\", \"meal\", \"medical\", \"meditation\", \"medium\", \"medium\", \"medium\", \"meeting\", \"meeting\", \"mental\", \"midjourney\", \"ml\", \"model\", \"model\", \"model\", \"model\", \"model\", \"model\", \"moly\", \"music\", \"music\", \"musician\", \"name\", \"name\", \"name\", \"need\", \"need\", \"need\", \"need\", \"need\", \"need\", \"need\", \"new\", \"new\", \"new\", \"new\", \"new\", \"new\", \"new\", \"news\", \"news\", \"newsletter\", \"newsletter\", \"niche\", \"nlg\", \"o\", \"occasion\", \"offer\", \"offer\", \"offer\", \"offer\", \"offer\", \"offer\", \"offer\", \"official\", \"old\", \"online\", \"online\", \"online\", \"online\", \"online\", \"operational\", \"operational\", \"option\", \"option\", \"option\", \"option\", \"option\", \"option\", \"option\", \"outfit\", \"outreach\", \"painting\", \"palette\", \"paraphrasing\", \"passport\", \"patient\", \"performance\", \"performance\", \"performance\", \"performance\", \"performance\", \"personal\", \"personal\", \"personal\", \"personal\", \"personal\", \"personal\", \"personal\", \"personalized\", \"personalized\", \"personalized\", \"personalized\", \"personalized\", \"personalized\", \"personalized\", \"pet\", \"photo\", \"photographer\", \"photography\", \"picture\", \"picture\", \"pitch\", \"pitch\", \"plagiarism\", \"plagiarism\", \"plan\", \"plan\", \"plan\", \"plan\", \"plan\", \"plan\", \"plan\", \"planning\", \"planning\", \"platform\", \"platform\", \"platform\", \"platform\", \"platform\", \"platform\", \"platform\", \"playlist\", \"podcast\", \"poetry\", \"portrait\", \"portrait\", \"possibility\", \"possibility\", \"post\", \"post\", \"predictive\", \"predictive\", \"preference\", \"preference\", \"preference\", \"preference\", \"process\", \"process\", \"process\", \"process\", \"process\", \"process\", \"process\", \"product\", \"product\", \"product\", \"product\", \"product\", \"product\", \"productivity\", \"productivity\", \"productivity\", \"productivity\", \"professional\", \"professional\", \"professional\", \"professional\", \"professional\", \"professional\", \"professional\", \"proficiency\", \"profile\", \"profile\", \"programming\", \"project\", \"project\", \"project\", \"project\", \"project\", \"prompt\", \"prompt\", \"prompt\", \"prompt\", \"prompt\", \"prospect\", \"provide\", \"provide\", \"provide\", \"provide\", \"provide\", \"provide\", \"provide\", \"provides\", \"provides\", \"provides\", \"provides\", \"provides\", \"provides\", \"provides\", \"providing\", \"providing\", \"providing\", \"providing\", \"providing\", \"providing\", \"providing\", \"publishing\", \"publishing\", \"python\", \"qr\", \"qualification\", \"quality\", \"quality\", \"quality\", \"quality\", \"quality\", \"quality\", \"quality\", \"query\", \"query\", \"query\", \"question\", \"question\", \"question\", \"question\", \"quiz\", \"range\", \"range\", \"range\", \"range\", \"range\", \"range\", \"range\", \"rap\", \"raster\", \"reach\", \"reach\", \"reach\", \"reach\", \"reach\", \"realistic\", \"realistic\", \"realistic\", \"receipt\", \"receive\", \"receive\", \"receive\", \"receive\", \"receive\", \"receive\", \"receive\", \"recipe\", \"recommendation\", \"recommendation\", \"recommendation\", \"recommendation\", \"recorded\", \"recording\", \"recording\", \"recruiter\", \"recruitment\", \"reddit\", \"reduces\", \"reduces\", \"reduces\", \"reducing\", \"reducing\", \"reducing\", \"reduction\", \"reduction\", \"regulation\", \"relaxation\", \"removal\", \"removal\", \"remove\", \"remove\", \"remover\", \"report\", \"report\", \"report\", \"report\", \"report\", \"repurpose\", \"repurpose\", \"repurposing\", \"research\", \"research\", \"research\", \"research\", \"research\", \"resolution\", \"resolution\", \"resolution\", \"resolution\", \"response\", \"response\", \"restore\", \"resume\", \"resumine\", \"retailer\", \"robot\", \"room\", \"room\", \"sale\", \"sale\", \"satisfaction\", \"satisfaction\", \"scalability\", \"search\", \"search\", \"search\", \"search\", \"search\", \"search\", \"securing\", \"seeker\", \"seeker\", \"selfies\", \"seller\", \"seo\", \"seo\", \"service\", \"service\", \"service\", \"service\", \"service\", \"service\", \"shortcut\", \"show\", \"sighted\", \"signal\", \"signal\", \"siri\", \"sketch\", \"sleep\", \"social\", \"social\", \"social\", \"social\", \"solution\", \"solution\", \"solution\", \"solution\", \"solution\", \"solution\", \"solution\", \"speaking\", \"speech\", \"speech\", \"spoken\", \"sql\", \"sql\", \"stable\", \"stable\", \"story\", \"story\", \"story\", \"streamline\", \"streamline\", \"streamline\", \"streamline\", \"streamline\", \"streamline\", \"stress\", \"stress\", \"striking\", \"student\", \"student\", \"student\", \"stunning\", \"stunning\", \"style\", \"style\", \"style\", \"style\", \"style\", \"style\", \"summarization\", \"summarized\", \"summarizer\", \"summary\", \"summary\", \"summary\", \"summary\", \"superluminal\", \"support\", \"support\", \"support\", \"support\", \"support\", \"support\", \"survey\", \"tailored\", \"tailored\", \"tailored\", \"tailored\", \"tailored\", \"tailored\", \"tailored\", \"tale\", \"talgg\", \"target\", \"target\", \"task\", \"task\", \"task\", \"task\", \"tax\", \"team\", \"team\", \"team\", \"team\", \"team\", \"team\", \"technology\", \"technology\", \"technology\", \"technology\", \"technology\", \"technology\", \"technology\", \"template\", \"template\", \"template\", \"template\", \"test\", \"test\", \"test\", \"test\", \"testing\", \"testing\", \"texo\", \"text\", \"text\", \"text\", \"text\", \"text\", \"texture\", \"thoughtful\", \"ticket\", \"ticket\", \"time\", \"time\", \"time\", \"time\", \"time\", \"time\", \"title\", \"title\", \"tldrai\", \"tool\", \"tool\", \"tool\", \"tool\", \"tool\", \"tool\", \"tool\", \"trading\", \"transcribe\", \"transcript\", \"transcript\", \"transcription\", \"translation\", \"translation\", \"travel\", \"traveler\", \"trip\", \"trust\", \"trust\", \"trust\", \"trust\", \"tweet\", \"twitter\", \"twitter\", \"twitter\", \"twitter\", \"unbiased\", \"unique\", \"unique\", \"unique\", \"unique\", \"unique\", \"unique\", \"unity\", \"unleash\", \"unwanted\", \"unwanted\", \"unwanted\", \"upload\", \"upload\", \"upload\", \"upload\", \"upload\", \"upload\", \"upscale\", \"user\", \"user\", \"user\", \"user\", \"user\", \"user\", \"user\", \"various\", \"various\", \"various\", \"various\", \"various\", \"various\", \"various\", \"vary\", \"video\", \"video\", \"video\", \"visitor\", \"visitor\", \"visual\", \"visual\", \"visual\", \"visual\", \"visual\", \"visually\", \"visuals\", \"vocal\", \"voice\", \"voice\", \"voice\", \"voice\", \"voiceovers\", \"wardrobe\", \"website\", \"website\", \"website\", \"website\", \"wellness\", \"wordpress\", \"wordpress\", \"workflow\", \"workflow\", \"workflow\", \"workflow\", \"workflow\", \"workforce\", \"workout\", \"write\", \"write\", \"write\", \"write\", \"writeplus\", \"writer\", \"writer\", \"writer\", \"writer\", \"writing\", \"writing\", \"writing\"]}, \"R\": 30, \"lambda.step\": 0.01, \"plot.opts\": {\"xlab\": \"PC1\", \"ylab\": \"PC2\"}, \"topic.order\": [4, 6, 5, 2, 7, 3, 1]};\n",
              "\n",
              "function LDAvis_load_lib(url, callback){\n",
              "  var s = document.createElement('script');\n",
              "  s.src = url;\n",
              "  s.async = true;\n",
              "  s.onreadystatechange = s.onload = callback;\n",
              "  s.onerror = function(){console.warn(\"failed to load library \" + url);};\n",
              "  document.getElementsByTagName(\"head\")[0].appendChild(s);\n",
              "}\n",
              "\n",
              "if(typeof(LDAvis) !== \"undefined\"){\n",
              "   // already loaded: just create the visualization\n",
              "   !function(LDAvis){\n",
              "       new LDAvis(\"#\" + \"ldavis_el10461326439590570727062398424\", ldavis_el10461326439590570727062398424_data);\n",
              "   }(LDAvis);\n",
              "}else if(typeof define === \"function\" && define.amd){\n",
              "   // require.js is available: use it to load d3/LDAvis\n",
              "   require.config({paths: {d3: \"https://d3js.org/d3.v5\"}});\n",
              "   require([\"d3\"], function(d3){\n",
              "      window.d3 = d3;\n",
              "      LDAvis_load_lib(\"https://cdn.jsdelivr.net/gh/bmabey/pyLDAvis@3.4.0/pyLDAvis/js/ldavis.v3.0.0.js\", function(){\n",
              "        new LDAvis(\"#\" + \"ldavis_el10461326439590570727062398424\", ldavis_el10461326439590570727062398424_data);\n",
              "      });\n",
              "    });\n",
              "}else{\n",
              "    // require.js not available: dynamically load d3 & LDAvis\n",
              "    LDAvis_load_lib(\"https://d3js.org/d3.v5.js\", function(){\n",
              "         LDAvis_load_lib(\"https://cdn.jsdelivr.net/gh/bmabey/pyLDAvis@3.4.0/pyLDAvis/js/ldavis.v3.0.0.js\", function(){\n",
              "                 new LDAvis(\"#\" + \"ldavis_el10461326439590570727062398424\", ldavis_el10461326439590570727062398424_data);\n",
              "            })\n",
              "         });\n",
              "}\n",
              "</script>"
            ]
          },
          "metadata": {},
          "execution_count": 29
        }
      ]
    },
    {
      "cell_type": "code",
      "source": [],
      "metadata": {
        "id": "0LKy-QjECLzZ"
      },
      "execution_count": null,
      "outputs": []
    }
  ]
}